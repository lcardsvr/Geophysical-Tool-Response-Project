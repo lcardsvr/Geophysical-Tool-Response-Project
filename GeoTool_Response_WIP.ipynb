{
 "cells": [
  {
   "cell_type": "code",
   "execution_count": 7,
   "metadata": {},
   "outputs": [],
   "source": [
    "# Dependencies and Setup\n",
    "import matplotlib.pyplot as plt\n",
    "import pandas as pd\n",
    "import numpy as np\n",
    "import requests\n",
    "import time\n",
    "from scipy.stats import linregress\n",
    "from datetime import datetime\n",
    "from scipy import stats\n",
    "\n",
    "\n",
    "import requests\n",
    "import json\n"
   ]
  },
  {
   "cell_type": "code",
   "execution_count": 8,
   "metadata": {},
   "outputs": [],
   "source": [
    "\n",
    "from matplotlib import style\n",
    "style.use('fivethirtyeight')\n",
    "\n",
    "import datetime as dt\n",
    "\n",
    "# Python SQL toolkit and Object Relational Mapper\n",
    "import sqlalchemy\n",
    "from sqlalchemy.ext.automap import automap_base\n",
    "from sqlalchemy.orm import Session\n",
    "from sqlalchemy import create_engine, func, inspect\n",
    "from sqlalchemy.ext.declarative import declarative_base\n",
    "\n",
    "import sqlite3"
   ]
  },
  {
   "attachments": {},
   "cell_type": "markdown",
   "metadata": {},
   "source": [
    "Loading Data"
   ]
  },
  {
   "cell_type": "code",
   "execution_count": null,
   "metadata": {},
   "outputs": [],
   "source": [
    "# Read saved data: Registers and Local DB\n",
    "db_0028aa = pd.read_csv(\"Resources/0028AA.csv\", encoding=\"utf-8\")\n",
    "\n",
    "# Display sample data\n",
    "db_0028aa.head()\n"
   ]
  },
  {
   "cell_type": "code",
   "execution_count": null,
   "metadata": {},
   "outputs": [],
   "source": [
    "# create engine to hawaii.sqlite\n",
    "# engine = create_engine(\"sqlite:///Resources/ProductionDB.db\")"
   ]
  },
  {
   "cell_type": "code",
   "execution_count": 10,
   "metadata": {},
   "outputs": [],
   "source": [
    "# create engine to hawaii.sqlite\n",
    "engine = create_engine(\"sqlite:///Resources/FMG_2023_Field.db\")"
   ]
  },
  {
   "cell_type": "code",
   "execution_count": 11,
   "metadata": {},
   "outputs": [
    {
     "data": {
      "text/plain": [
       "['Century_0028AA',\n",
       " 'Century_0028AA_cals',\n",
       " 'Century_0028AA_header',\n",
       " 'Century_9013A',\n",
       " 'Century_9013A_cals',\n",
       " 'Century_9013A_header',\n",
       " 'Century_9238AA',\n",
       " 'Century_9238AA_cals',\n",
       " 'Century_9238AA_header',\n",
       " 'Century_9238CA',\n",
       " 'Century_9238CA_cals',\n",
       " 'Century_9238CA_header',\n",
       " 'Century_9622A',\n",
       " 'Century_9622A_cals',\n",
       " 'Century_9622A_header',\n",
       " 'Century_9622C',\n",
       " 'Century_9622C_cals',\n",
       " 'Century_9622C_header',\n",
       " 'sqlite_sequence']"
      ]
     },
     "execution_count": 11,
     "metadata": {},
     "output_type": "execute_result"
    }
   ],
   "source": [
    "# Create the inspector and connect it to the engine\n",
    "inspector = inspect(engine)\n",
    "# Collect the names of tables within the database\n",
    "inspector.get_table_names()\n"
   ]
  },
  {
   "cell_type": "code",
   "execution_count": 12,
   "metadata": {},
   "outputs": [
    {
     "name": "stdout",
     "output_type": "stream",
     "text": [
      "---- 0028AA table information --------\n",
      "Depth_M FLOAT\n",
      "CALIPER_MM FLOAT\n",
      "DENSITY_G/CC FLOAT\n",
      "POR(DEN)_PERCENT FLOAT\n",
      "DENSITY_CPS FLOAT\n",
      "TENSION_CPS FLOAT\n",
      "TIME_MINUTES FLOAT\n",
      "well TEXT\n",
      "file TEXT\n",
      "TIME_SECONDS FLOAT\n",
      "CALIPER_CPS FLOAT\n",
      "TENSION_POUNDS FLOAT\n",
      "ind INTEGER\n",
      "---- 0028AA_cals table information --------\n",
      "dateTime DATETIME\n",
      "sensor TEXT\n",
      "unitsStandard TEXT\n",
      "standard FLOAT\n",
      "response FLOAT\n",
      "file TEXT\n",
      "well TEXT\n",
      "toolSerial TEXT\n",
      "ind INTEGER\n",
      "---- 0028AA_header table information --------\n",
      "filetype TEXT\n",
      "filetypeID TEXT\n",
      "sysversion TEXT\n",
      "sysserial TEXT\n",
      "unit TEXT\n",
      "truckcal TEXT\n",
      "interval FLOAT\n",
      "start_depth TEXT\n",
      "end_depth TEXT\n",
      "dir TEXT\n",
      "engUnits TEXT\n",
      "toolSerial TEXT\n",
      "runDate DATETIME\n",
      "runTime TEXT\n",
      "Company TEXT\n",
      "Well TEXT\n",
      "Field TEXT\n",
      "County TEXT\n",
      "State TEXT\n",
      "Section TEXT\n",
      "Township TEXT\n",
      "Range TEXT\n",
      "Latitude TEXT\n",
      "Longitude TEXT\n",
      "LogMeasFrom TEXT\n",
      "DrillMeasFrom TEXT\n",
      "PermDatum TEXT\n",
      "ElevPermDatum TEXT\n",
      "ElevKellyBushing TEXT\n",
      "ElevDrillFloor TEXT\n",
      "ElevGndLevel TEXT\n",
      "DepthDriller TEXT\n",
      "CasingDiameter TEXT\n",
      "CasingBottom TEXT\n",
      "CasingType TEXT\n",
      "CasingThickness TEXT\n",
      "TimeCircStop TEXT\n",
      "LoggingUnit TEXT\n",
      "FieldOffice TEXT\n",
      "RecordedBy TEXT\n",
      "OtherServ_1 TEXT\n",
      "OtherServ_2 TEXT\n",
      "Remarks_1 TEXT\n",
      "Remarks_2 TEXT\n",
      "BitSize TEXT\n",
      "MeanSurfTemp TEXT\n",
      "TempGradient TEXT\n",
      "MagnDecl TEXT\n",
      "DensityMatrix TEXT\n",
      "NeutronMatrix TEXT\n",
      "MatrixDelta TEXT\n",
      "FluidDelta TEXT\n",
      "MudSampdrc TEXT\n",
      "MudResistivity TEXT\n",
      "MudTemp TEXT\n",
      "ResMudFiltrate TEXT\n",
      "TempMudFiltrate TEXT\n",
      "ResMudCake TEXT\n",
      "TempMudCake TEXT\n",
      "BoreholeFluid TEXT\n",
      "FluidDensity TEXT\n",
      "FluidVisc TEXT\n",
      "FluidpHy TEXT\n",
      "ElectricLogCut TEXT\n",
      "RigNum TEXT\n",
      "UWI TEXT\n",
      "License TEXT\n",
      "CasingOD TEXT\n",
      "Location TEXT\n",
      "RunNo TEXT\n",
      "ApiNo TEXT\n",
      "Witnessed TEXT\n",
      "ToolModuleVersion BIGINT\n",
      "Arrival TEXT\n",
      "Depart TEXT\n",
      "loggerTD TEXT\n",
      "Caliper TEXT\n",
      "runDateTime DATETIME\n",
      "file TEXT\n",
      "filepath TEXT\n",
      "ind INTEGER\n"
     ]
    }
   ],
   "source": [
    "# View all of the classes that automap found\n",
    "\n",
    "# Using the inspector to print the column names within the 'measurement' table and its types\n",
    "\n",
    "print (\"---- 0028AA table information --------\")\n",
    "\n",
    "columns = inspector.get_columns('Century_0028AA')\n",
    "for column in columns:\n",
    "    print(column[\"name\"], column[\"type\"])\n",
    "\n",
    "print (\"---- 0028AA_cals table information --------\")\n",
    "\n",
    "columns = inspector.get_columns('Century_0028AA_cals')\n",
    "for column in columns:\n",
    "    print(column[\"name\"], column[\"type\"])\n",
    "\n",
    "\n",
    "print (\"---- 0028AA_header table information --------\")\n",
    "\n",
    "columns = inspector.get_columns('Century_0028AA_header')\n",
    "for column in columns:\n",
    "    print(column[\"name\"], column[\"type\"])\n",
    "\n"
   ]
  },
  {
   "cell_type": "code",
   "execution_count": null,
   "metadata": {},
   "outputs": [],
   "source": [
    "# View all of the classes that automap found\n",
    "\n",
    "# Using the inspector to print the column names within the 'measurement' table and its types\n",
    "\n",
    "print (\"---- Century_9013A table information --------\")\n",
    "\n",
    "columns = inspector.get_columns('Century_9013A')\n",
    "for column in columns:\n",
    "    print(column[\"name\"], column[\"type\"])\n",
    "\n",
    "print (\"---- Century_9013A_cals table information --------\")\n",
    "\n",
    "columns = inspector.get_columns('Century_9013A_cals')\n",
    "for column in columns:\n",
    "    print(column[\"name\"], column[\"type\"])\n",
    "\n",
    "\n",
    "print (\"---- Century_9013A_header table information --------\")\n",
    "\n",
    "columns = inspector.get_columns('Century_9013A_header')\n",
    "for column in columns:\n",
    "    print(column[\"name\"], column[\"type\"])\n"
   ]
  },
  {
   "cell_type": "code",
   "execution_count": null,
   "metadata": {},
   "outputs": [],
   "source": [
    "# View all of the classes that automap found\n",
    "\n",
    "# Using the inspector to print the column names within the 'measurement' table and its types\n",
    "\n",
    "print (\"---- Century_9057A table information --------\")\n",
    "\n",
    "columns = inspector.get_columns('Century_9057A')\n",
    "for column in columns:\n",
    "    print(column[\"name\"], column[\"type\"])\n",
    "\n",
    "print (\"---- Century_9057A_cals table information --------\")\n",
    "\n",
    "columns = inspector.get_columns('Century_9057A_cals')\n",
    "for column in columns:\n",
    "    print(column[\"name\"], column[\"type\"])\n",
    "\n",
    "\n",
    "print (\"---- Century_9057A_header table information --------\")\n",
    "\n",
    "columns = inspector.get_columns('Century_9057A_header')\n",
    "for column in columns:\n",
    "    print(column[\"name\"], column[\"type\"])\n",
    "\n"
   ]
  },
  {
   "cell_type": "code",
   "execution_count": null,
   "metadata": {},
   "outputs": [],
   "source": [
    "# View all of the classes that automap found\n",
    "\n",
    "# Using the inspector to print the column names within the 'measurement' table and its types\n",
    "\n",
    "print (\"---- Century_9238AA table information --------\")\n",
    "\n",
    "columns = inspector.get_columns('Century_9238AA')\n",
    "for column in columns:\n",
    "    print(column[\"name\"], column[\"type\"])\n",
    "\n",
    "print (\"---- Century_9238AA_cals table information --------\")\n",
    "\n",
    "columns = inspector.get_columns('Century_9238AA_cals')\n",
    "for column in columns:\n",
    "    print(column[\"name\"], column[\"type\"])\n",
    "\n",
    "\n",
    "print (\"---- Century_9238AA_header table information --------\")\n",
    "\n",
    "columns = inspector.get_columns('Century_9238AA_header')\n",
    "for column in columns:\n",
    "    print(column[\"name\"], column[\"type\"])"
   ]
  },
  {
   "cell_type": "code",
   "execution_count": null,
   "metadata": {},
   "outputs": [],
   "source": [
    "# View all of the classes that automap found\n",
    "\n",
    "# Using the inspector to print the column names within the 'measurement' table and its types\n",
    "\n",
    "print (\"---- Century_9622A table information --------\")\n",
    "\n",
    "columns = inspector.get_columns('Century_9622A')\n",
    "for column in columns:\n",
    "    print(column[\"name\"], column[\"type\"])\n",
    "\n",
    "print (\"---- Century_9622A_cals table information --------\")\n",
    "\n",
    "columns = inspector.get_columns('Century_9622A_cals')\n",
    "for column in columns:\n",
    "    print(column[\"name\"], column[\"type\"])\n",
    "\n",
    "\n",
    "print (\"---- Century_9622A_header table information --------\")\n",
    "\n",
    "columns = inspector.get_columns('Century_9622A_header')\n",
    "for column in columns:\n",
    "    print(column[\"name\"], column[\"type\"])\n",
    "\n"
   ]
  },
  {
   "cell_type": "code",
   "execution_count": 13,
   "metadata": {},
   "outputs": [
    {
     "name": "stdout",
     "output_type": "stream",
     "text": [
      "---- Century_9622C table information --------\n",
      "Depth_M FLOAT\n",
      "GAM(NAT)_CPS FLOAT\n",
      "SUSCEP_CGS E-5 FLOAT\n",
      "SANG_DEG FLOAT\n",
      "SANGB_DEG FLOAT\n",
      "MAG-VECT_AMPL FLOAT\n",
      "XINCL_MV FLOAT\n",
      "YINCL_MV FLOAT\n",
      "XFLUX_MV FLOAT\n",
      "YFLUX_MV FLOAT\n",
      "ZFLUX_MV FLOAT\n",
      "TEMP_DEG C FLOAT\n",
      "TEMP_CPS FLOAT\n",
      "SUSCEP_CPS FLOAT\n",
      "TENSION_CPS FLOAT\n",
      "TIME_MINUTES FLOAT\n",
      "well TEXT\n",
      "file TEXT\n",
      "TEMP_DEG REAL\n",
      "ind INTEGER\n",
      "---- Century_9622C_cals table information --------\n",
      "dateTime DATETIME\n",
      "sensor TEXT\n",
      "unitsStandard TEXT\n",
      "standard FLOAT\n",
      "response FLOAT\n",
      "file TEXT\n",
      "well TEXT\n",
      "toolSerial TEXT\n",
      "ind INTEGER\n",
      "---- Century_9622C_header table information --------\n",
      "filetype TEXT\n",
      "filetypeID TEXT\n",
      "sysversion TEXT\n",
      "sysserial TEXT\n",
      "unit TEXT\n",
      "truckcal TEXT\n",
      "interval FLOAT\n",
      "start_depth TEXT\n",
      "end_depth TEXT\n",
      "dir TEXT\n",
      "engUnits TEXT\n",
      "toolSerial TEXT\n",
      "runDate DATETIME\n",
      "runTime TEXT\n",
      "Company TEXT\n",
      "Well TEXT\n",
      "Field TEXT\n",
      "County TEXT\n",
      "State TEXT\n",
      "Section TEXT\n",
      "Township TEXT\n",
      "Range TEXT\n",
      "Latitude TEXT\n",
      "Longitude TEXT\n",
      "LogMeasFrom TEXT\n",
      "DrillMeasFrom TEXT\n",
      "PermDatum TEXT\n",
      "ElevPermDatum TEXT\n",
      "ElevKellyBushing TEXT\n",
      "ElevDrillFloor TEXT\n",
      "ElevGndLevel TEXT\n",
      "DepthDriller TEXT\n",
      "CasingDiameter TEXT\n",
      "CasingBottom TEXT\n",
      "CasingType TEXT\n",
      "CasingThickness TEXT\n",
      "TimeCircStop TEXT\n",
      "LoggingUnit TEXT\n",
      "FieldOffice TEXT\n",
      "RecordedBy TEXT\n",
      "OtherServ_1 TEXT\n",
      "OtherServ_2 TEXT\n",
      "Remarks_1 TEXT\n",
      "Remarks_2 TEXT\n",
      "BitSize TEXT\n",
      "MeanSurfTemp TEXT\n",
      "TempGradient TEXT\n",
      "MagnDecl TEXT\n",
      "DensityMatrix TEXT\n",
      "NeutronMatrix TEXT\n",
      "MatrixDelta TEXT\n",
      "FluidDelta TEXT\n",
      "MudSampdrc TEXT\n",
      "MudResistivity TEXT\n",
      "MudTemp TEXT\n",
      "ResMudFiltrate TEXT\n",
      "TempMudFiltrate TEXT\n",
      "ResMudCake TEXT\n",
      "TempMudCake TEXT\n",
      "BoreholeFluid TEXT\n",
      "FluidDensity TEXT\n",
      "FluidVisc TEXT\n",
      "FluidpHy TEXT\n",
      "ElectricLogCut TEXT\n",
      "RigNum TEXT\n",
      "UWI TEXT\n",
      "License TEXT\n",
      "CasingOD TEXT\n",
      "Location TEXT\n",
      "RunNo TEXT\n",
      "ApiNo TEXT\n",
      "Witnessed TEXT\n",
      "ToolModuleVersion BIGINT\n",
      "Arrival TEXT\n",
      "Depart TEXT\n",
      "loggerTD TEXT\n",
      "Caliper TEXT\n",
      "runDateTime DATETIME\n",
      "file TEXT\n",
      "filepath TEXT\n",
      "ind INTEGER\n"
     ]
    }
   ],
   "source": [
    "# View all of the classes that automap found\n",
    "\n",
    "# Using the inspector to print the column names within the 'measurement' table and its types\n",
    "\n",
    "print (\"---- Century_9622C table information --------\")\n",
    "\n",
    "columns = inspector.get_columns('Century_9622C')\n",
    "for column in columns:\n",
    "    print(column[\"name\"], column[\"type\"])\n",
    "\n",
    "print (\"---- Century_9622C_cals table information --------\")\n",
    "\n",
    "columns = inspector.get_columns('Century_9622C_cals')\n",
    "for column in columns:\n",
    "    print(column[\"name\"], column[\"type\"])\n",
    "\n",
    "\n",
    "print (\"---- Century_9622C_header table information --------\")\n",
    "\n",
    "columns = inspector.get_columns('Century_9622C_header')\n",
    "for column in columns:\n",
    "    print(column[\"name\"], column[\"type\"])\n",
    "\n"
   ]
  },
  {
   "cell_type": "code",
   "execution_count": 14,
   "metadata": {},
   "outputs": [
    {
     "data": {
      "text/plain": [
       "['Century_0028AA',\n",
       " 'Century_0028AA_cals',\n",
       " 'Century_0028AA_header',\n",
       " 'Century_9013A',\n",
       " 'Century_9013A_cals',\n",
       " 'Century_9013A_header',\n",
       " 'Century_9238AA',\n",
       " 'Century_9238AA_cals',\n",
       " 'Century_9238AA_header',\n",
       " 'Century_9238CA',\n",
       " 'Century_9238CA_cals',\n",
       " 'Century_9238CA_header',\n",
       " 'Century_9622A',\n",
       " 'Century_9622A_cals',\n",
       " 'Century_9622A_header',\n",
       " 'Century_9622C',\n",
       " 'Century_9622C_cals',\n",
       " 'Century_9622C_header',\n",
       " 'sqlite_sequence']"
      ]
     },
     "execution_count": 14,
     "metadata": {},
     "output_type": "execute_result"
    }
   ],
   "source": [
    "inspector.get_table_names()"
   ]
  },
  {
   "attachments": {},
   "cell_type": "markdown",
   "metadata": {},
   "source": [
    "['Century_0028AA',\n",
    " 'Century_0028AA_cals',\n",
    " 'Century_0028AA_header',\n",
    " 'Century_9013A',\n",
    " 'Century_9013A_cals',\n",
    " 'Century_9013A_header',\n",
    " 'Century_9238AA',\n",
    " 'Century_9238AA_cals',\n",
    " 'Century_9238AA_header',\n",
    " 'Century_9238CA',\n",
    " 'Century_9238CA_cals',\n",
    " 'Century_9238CA_header',\n",
    " 'Century_9622A',\n",
    " 'Century_9622A_cals',\n",
    " 'Century_9622A_header',\n",
    " 'Century_9622C',\n",
    " 'Century_9622C_cals',\n",
    " 'Century_9622C_header',\n",
    " 'sqlite_sequence']"
   ]
  },
  {
   "cell_type": "code",
   "execution_count": 15,
   "metadata": {},
   "outputs": [
    {
     "data": {
      "text/plain": [
       "['Century_0028AA',\n",
       " 'Century_0028AA_cals',\n",
       " 'Century_0028AA_header',\n",
       " 'Century_9013A',\n",
       " 'Century_9013A_cals',\n",
       " 'Century_9013A_header',\n",
       " 'Century_9238AA',\n",
       " 'Century_9238AA_cals',\n",
       " 'Century_9238AA_header',\n",
       " 'Century_9238CA',\n",
       " 'Century_9238CA_cals',\n",
       " 'Century_9238CA_header',\n",
       " 'Century_9622A',\n",
       " 'Century_9622A_cals',\n",
       " 'Century_9622A_header',\n",
       " 'Century_9622C',\n",
       " 'Century_9622C_cals',\n",
       " 'Century_9622C_header']"
      ]
     },
     "execution_count": 15,
     "metadata": {},
     "output_type": "execute_result"
    }
   ],
   "source": [
    "# reflect an existing database into a new model\n",
    "\n",
    "Base = automap_base()\n",
    "Base.prepare(autoload_with=engine, reflect=True)\n",
    "\n",
    "\n",
    "# reflect the tables\n",
    "Base.classes.keys()"
   ]
  },
  {
   "cell_type": "code",
   "execution_count": 16,
   "metadata": {},
   "outputs": [],
   "source": [
    "# Save references to each table\n",
    "\n",
    "# Save references to each table\n",
    "\n",
    "# Map 0028AA class\n",
    "db_0028AA = Base.classes.Century_0028AA\n",
    "\n",
    "# Map RMIS class\n",
    "# RMIS = Base.classes.RMIS\n",
    "\n",
    "# # Map QLD_IRA class\n",
    "# QLD_IRA = Base.classes.QLD_IRA\n",
    "\n",
    "# # Map QLD_Reg_AR class\n",
    "# QLD_Reg_AR = Base.classes.QLD_Reg_AR\n",
    "\n",
    "# # Map QLD_SRS class\n",
    "# QLD_SRS_AR = Base.classes.QLD_SRS\n",
    "\n",
    "# # Map SA_Reg class\n",
    "# SA_Reg = Base.classes.SA_Reg\n",
    "\n",
    "# # Map WA_RS_Reg class\n",
    "# WA_RS_Reg = Base.classes.WA_RS_Reg\n",
    "\n",
    "# # Map WA_RX_Reg class\n",
    "# WA_RX_Reg = Base.classes.WA_RX_Reg"
   ]
  },
  {
   "cell_type": "code",
   "execution_count": null,
   "metadata": {},
   "outputs": [],
   "source": [
    "# Create our session (link) from Python to the DB\n",
    "session = Session(engine)"
   ]
  },
  {
   "cell_type": "code",
   "execution_count": null,
   "metadata": {},
   "outputs": [],
   "source": [
    "db_0028AA_df = pd.read_sql_query(\n",
    "    sql = session.query(db_0028AA).all(),\n",
    "    con= engine\n",
    "    )"
   ]
  },
  {
   "cell_type": "code",
   "execution_count": null,
   "metadata": {},
   "outputs": [],
   "source": [
    "\n",
    "print (\"\\n ---- RMIS table information --------\")\n",
    "\n",
    "columns = inspector.get_columns('db_0028AA')\n",
    "for column in columns:\n",
    "    print(column[\"name\"], column[\"type\"])"
   ]
  },
  {
   "cell_type": "code",
   "execution_count": null,
   "metadata": {},
   "outputs": [],
   "source": [
    "# Photo inventory dates dates\n",
    "\n",
    "\n",
    "print (\"\\n----- Total dates------\\n\")\n",
    "totald = session.query(db_0028AA.well, func.count(db_0028AA.well), func.avg(db_0028AA.DENSITY_CPS)).\\\n",
    "    group_by(db_0028AA.well).\\\n",
    "    all()\n",
    "print (totald)\n",
    "\n",
    "# # Earliest Date\n",
    "\n",
    "# print (\"\\n----- Earliest Date------\\n\")\n",
    "# date = session.query(RMIS.DateofLastPhotoInvtest).order_by(RMIS.DateofLastPhotoInvtest).\\\n",
    "#     filter(RMIS.PhotoInventoryFrequency == '12Month').\\\n",
    "#     order_by(RMIS.DateofLastPhotoInvtest).first()\n",
    "# print (date)\n",
    "\n",
    "\n",
    "# # Latest Date\n",
    "\n",
    "# print (\"\\n----- Latest Date-------\\n\")\n",
    "# date = session.query(RMIS.DateofLastPhotoInvtest).order_by(RMIS.DateofLastPhotoInvtest.desc()).\\\n",
    "#     filter(RMIS.PhotoInventoryFrequency == '12Month').\\\n",
    "#     order_by(RMIS.DateofLastPhotoInvtest).first()\n",
    "# print (date)"
   ]
  },
  {
   "cell_type": "code",
   "execution_count": null,
   "metadata": {},
   "outputs": [],
   "source": [
    "print (\"\\n----- Records in a location------\\n\")\n",
    "totald = session.query(RMIS.BusinessLine,func.count(RMIS.FacilityNamewithFacilityID)).\\\n",
    "    filter(RMIS.FacilityNamewithFacilityID == 'Jandakot Base OFS Operating Base - 8509').\\\n",
    "    group_by(RMIS.BusinessLine).\\\n",
    "    all()\n",
    "print (totald)"
   ]
  },
  {
   "cell_type": "code",
   "execution_count": null,
   "metadata": {},
   "outputs": [],
   "source": [
    "print (\"\\n----- Records in a location------\\n\")\n",
    "totald = session.query(RMIS.FacilityNamewithFacilityID, RMIS.BusinessLine,func.count(RMIS.FacilityNamewithFacilityID)).\\\n",
    "     group_by(RMIS.FacilityNamewithFacilityID).\\\n",
    "     order_by(RMIS.BusinessLine).\\\n",
    "    all()\n",
    "print (totald)"
   ]
  },
  {
   "cell_type": "code",
   "execution_count": null,
   "metadata": {},
   "outputs": [],
   "source": [
    "# Calibration compliance\n",
    "\n",
    "print (\"\\n----- Calibration compliance------\\n\")\n",
    "CalComp = session.query(RMIS.FacilityNamewithFacilityID, RMIS.BusinessLine, RMIS.CalibrationComplianceIndicator, func.count(RMIS.CalibrationComplianceIndicator)).\\\n",
    "    group_by(RMIS.FacilityNamewithFacilityID).\\\n",
    "    group_by(RMIS.BusinessLine).\\\n",
    "    group_by(RMIS.CalibrationComplianceIndicator).\\\n",
    "    all()\n",
    "print (CalComp)"
   ]
  },
  {
   "cell_type": "code",
   "execution_count": null,
   "metadata": {},
   "outputs": [],
   "source": [
    "CalComp\n"
   ]
  },
  {
   "cell_type": "code",
   "execution_count": null,
   "metadata": {},
   "outputs": [],
   "source": [
    "#Leak Test compliance\n",
    "\n",
    "print (\"\\n----- Leak Testcompliance------\\n\")\n",
    "LeakTestComp = session.query(RMIS.FacilityNamewithFacilityID, RMIS.BusinessLine, RMIS.LeakTestComplianceIndicator, func.count(RMIS.LeakTestComplianceIndicator)).\\\n",
    "    group_by(RMIS.FacilityNamewithFacilityID).\\\n",
    "    group_by(RMIS.BusinessLine).\\\n",
    "    group_by(RMIS.LeakTestComplianceIndicator).\\\n",
    "    all()\n",
    "print (LeakTestComp)"
   ]
  },
  {
   "cell_type": "code",
   "execution_count": null,
   "metadata": {},
   "outputs": [],
   "source": [
    "# Photo compliance\n",
    "\n",
    "print (\"\\n----- Photo compliance------\\n\")\n",
    "PhotoComp = session.query(RMIS.FacilityNamewithFacilityID, RMIS.BusinessLine, RMIS.ConfirmationPhotoComplianceIndicator, func.count(RMIS.ConfirmationPhotoComplianceIndicator)).\\\n",
    "    group_by(RMIS.FacilityNamewithFacilityID).\\\n",
    "    group_by(RMIS.BusinessLine).\\\n",
    "    group_by(RMIS.ConfirmationPhotoComplianceIndicator).\\\n",
    "    all()\n",
    "print (PhotoComp)"
   ]
  },
  {
   "cell_type": "code",
   "execution_count": null,
   "metadata": {},
   "outputs": [],
   "source": [
    "# Total dates\n",
    "\n",
    "print (\"\\n----- Total dates------\\n\")\n",
    "totald = session.query(func.count(RMIS.Geounit)).all()\n",
    "print (totald)"
   ]
  },
  {
   "cell_type": "code",
   "execution_count": null,
   "metadata": {},
   "outputs": [],
   "source": [
    "print (\"\\n----- Photo compliance------\\n\")\n",
    "PhotoComp = session.query(RMIS.Geounit, RMIS.Country, RMIS.FacilityNamewithFacilityID, RMIS.BusinessLine, RMIS.ConfirmationPhotoComplianceIndicator, func.count(RMIS.ConfirmationPhotoComplianceIndicator)).\\\n",
    "    group_by(RMIS.FacilityNamewithFacilityID).\\\n",
    "    group_by(RMIS.BusinessLine).\\\n",
    "    group_by(RMIS.ConfirmationPhotoComplianceIndicator).\\\n",
    "    all()\n",
    "print (PhotoComp)\n"
   ]
  },
  {
   "cell_type": "code",
   "execution_count": null,
   "metadata": {},
   "outputs": [],
   "source": [
    "PhotoComp\n"
   ]
  },
  {
   "cell_type": "code",
   "execution_count": null,
   "metadata": {},
   "outputs": [],
   "source": [
    "PhotoComp_df = pd.DataFrame(PhotoComp, columns=['FacilityNamewithFacilityID', 'BusinessLine', 'ConfirmationPhotoComplianceIndicator','Count'])"
   ]
  },
  {
   "cell_type": "code",
   "execution_count": null,
   "metadata": {},
   "outputs": [],
   "source": [
    "PhotoComp_df"
   ]
  },
  {
   "cell_type": "code",
   "execution_count": null,
   "metadata": {},
   "outputs": [],
   "source": [
    " PhotoComp_data_out = []"
   ]
  },
  {
   "cell_type": "code",
   "execution_count": null,
   "metadata": {},
   "outputs": [],
   "source": [
    "len(PhotoComp)"
   ]
  },
  {
   "cell_type": "code",
   "execution_count": null,
   "metadata": {},
   "outputs": [],
   "source": [
    "PhotoComp[0].FacilityNamewithFacilityID"
   ]
  },
  {
   "cell_type": "code",
   "execution_count": null,
   "metadata": {},
   "outputs": [],
   "source": [
    "PhotoComp[0].BusinessLine"
   ]
  },
  {
   "cell_type": "code",
   "execution_count": null,
   "metadata": {},
   "outputs": [],
   "source": [
    "PhotoComp[0].ConfirmationPhotoComplianceIndicator"
   ]
  },
  {
   "cell_type": "code",
   "execution_count": null,
   "metadata": {},
   "outputs": [],
   "source": [
    "PhotoComp[0][3]"
   ]
  },
  {
   "cell_type": "code",
   "execution_count": null,
   "metadata": {},
   "outputs": [],
   "source": [
    "    for row in PhotoComp:\n",
    "        PhotoComp_dict = {}\n",
    "        PhotoComp_dict[\"FacilityNamewithFacilityID\"]=row.FacilityNamewithFacilityID\n",
    "        PhotoComp_dict[\"BusinessLine\"]=row.BusinessLine\n",
    "        PhotoComp_dict[\"ConfirmationPhotoComplianceIndicator\"]=row.ConfirmationPhotoComplianceIndicator\n",
    "        PhotoComp_dict[\"Count\"]=row[3]\n",
    "\n",
    "        PhotoComp_data_out.append(PhotoComp_dict)"
   ]
  },
  {
   "cell_type": "code",
   "execution_count": null,
   "metadata": {},
   "outputs": [],
   "source": [
    "PhotoComp_data_out"
   ]
  },
  {
   "cell_type": "code",
   "execution_count": null,
   "metadata": {},
   "outputs": [],
   "source": [
    "# Close Session\n",
    "session.close()"
   ]
  },
  {
   "cell_type": "code",
   "execution_count": null,
   "metadata": {},
   "outputs": [],
   "source": []
  },
  {
   "cell_type": "code",
   "execution_count": null,
   "metadata": {},
   "outputs": [],
   "source": [
    "PhotoComp"
   ]
  },
  {
   "cell_type": "code",
   "execution_count": null,
   "metadata": {},
   "outputs": [],
   "source": [
    "PhotoComp_df = pd.DataFrame(PhotoComp, columns=['Geounit', 'Country', 'FacilityNamewithFacilityID', 'BusinessLine', 'ConfirmationPhotoComplianceIndicator','Count'])"
   ]
  },
  {
   "cell_type": "code",
   "execution_count": null,
   "metadata": {},
   "outputs": [],
   "source": [
    "bases= PhotoComp_df['FacilityNamewithFacilityID'].unique()"
   ]
  },
  {
   "cell_type": "code",
   "execution_count": null,
   "metadata": {},
   "outputs": [],
   "source": [
    "bases"
   ]
  },
  {
   "cell_type": "code",
   "execution_count": null,
   "metadata": {},
   "outputs": [],
   "source": [
    "countries = PhotoComp_df['Country'].unique()"
   ]
  },
  {
   "cell_type": "code",
   "execution_count": null,
   "metadata": {},
   "outputs": [],
   "source": [
    "countries"
   ]
  },
  {
   "cell_type": "code",
   "execution_count": null,
   "metadata": {},
   "outputs": [],
   "source": [
    "cities = ['China Chengdu OFS Base - 560', 'China Huizhou Radioactive Warehouse - 18099', 'Indonesia JOP - Cikarang Integrated Base CIB) OFS Base - 7559', 'Indonesia JOP - Elnusa Open Yard Cilandak - 2763','Australia Jandakot Base OFS Operating Base - 8509','Indonesia KAL - Manggar OFS Base - 255', 'China Korla Integrated Base - 1282', 'China LinGang Integrated Base - 13061', 'Australia Moomba WL Operating Base - 1603', 'Japan Nagaoka OFS Base - 1644', 'New Zealand New Plymouth OFS Base Integrated Base - 1696', 'Australia Newburn Base - 1839', 'Papua New Guinea', 'PNG OFS Base Integrated Base - 8167', 'Australia Roma Smith Pathfinder Operating Base - 2073', 'Australia Roma WL Operating Base - 2074', 'Indonesia SUM - Duri OFS Base - 789',  'Indonesia SUM - Jambi WL Base - 1205', 'Indonesia SUM - Prabumulih OFS Base - 1943', 'China Shekou Oilfield Services Base - 2171', 'Taiwan, Province Of China Taiwan Miaoli base - 1548', 'Australia Toowoomba OFS Operating Base - 10493','China XiQing Product Center - 2353']"
   ]
  },
  {
   "cell_type": "code",
   "execution_count": null,
   "metadata": {},
   "outputs": [],
   "source": []
  },
  {
   "cell_type": "code",
   "execution_count": null,
   "metadata": {},
   "outputs": [],
   "source": [
    "# Close Session\n",
    "session.close()"
   ]
  }
 ],
 "metadata": {
  "kernelspec": {
   "display_name": "PythonData",
   "language": "python",
   "name": "python3"
  },
  "language_info": {
   "codemirror_mode": {
    "name": "ipython",
    "version": 3
   },
   "file_extension": ".py",
   "mimetype": "text/x-python",
   "name": "python",
   "nbconvert_exporter": "python",
   "pygments_lexer": "ipython3",
   "version": "3.7.13"
  },
  "orig_nbformat": 4
 },
 "nbformat": 4,
 "nbformat_minor": 2
}
