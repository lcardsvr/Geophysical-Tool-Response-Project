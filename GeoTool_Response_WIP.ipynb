{
 "cells": [
  {
   "cell_type": "code",
   "execution_count": null,
   "metadata": {},
   "outputs": [],
   "source": [
    "# Dependencies and Setup\n",
    "import matplotlib.pyplot as plt\n",
    "import pandas as pd\n",
    "import numpy as np\n",
    "import requests\n",
    "import time\n",
    "from scipy.stats import linregress\n",
    "from datetime import datetime\n",
    "from scipy import stats\n",
    "\n",
    "\n",
    "import requests\n",
    "import json\n"
   ]
  },
  {
   "cell_type": "code",
   "execution_count": null,
   "metadata": {},
   "outputs": [],
   "source": [
    "\n",
    "from matplotlib import style\n",
    "style.use('fivethirtyeight')\n",
    "\n",
    "import datetime as dt\n",
    "\n",
    "# Python SQL toolkit and Object Relational Mapper\n",
    "import sqlalchemy\n",
    "from sqlalchemy.ext.automap import automap_base\n",
    "from sqlalchemy.orm import Session\n",
    "from sqlalchemy import create_engine, func, inspect\n",
    "from sqlalchemy.ext.declarative import declarative_base\n",
    "\n",
    "import sqlite3"
   ]
  },
  {
   "attachments": {},
   "cell_type": "markdown",
   "metadata": {},
   "source": [
    "Loading Data"
   ]
  },
  {
   "cell_type": "code",
   "execution_count": null,
   "metadata": {},
   "outputs": [],
   "source": [
    "# # Read saved data: Registers and Local DB\n",
    "# db_0028aa = pd.read_csv(\"Resources/0028AA.csv\", encoding=\"utf-8\")\n",
    "\n",
    "# # Display sample data\n",
    "# db_0028aa.head()\n"
   ]
  },
  {
   "cell_type": "code",
   "execution_count": null,
   "metadata": {},
   "outputs": [],
   "source": [
    "# create engine to hawaii.sqlite\n",
    "# engine = create_engine(\"sqlite:///Resources/ProductionDB.db\")"
   ]
  },
  {
   "cell_type": "code",
   "execution_count": null,
   "metadata": {},
   "outputs": [],
   "source": [
    "# create engine to Dataset 1 .sqlite\n",
    "engine = create_engine(\"sqlite:///Resources/FMG_2023_Field.db\")"
   ]
  },
  {
   "cell_type": "code",
   "execution_count": null,
   "metadata": {},
   "outputs": [],
   "source": [
    "# Create the inspector and connect it to the engine\n",
    "inspector = inspect(engine)\n",
    "# Collect the names of tables within the database\n",
    "inspector.get_table_names()\n"
   ]
  },
  {
   "cell_type": "code",
   "execution_count": null,
   "metadata": {},
   "outputs": [],
   "source": [
    "# View all of the classes that automap found\n",
    "\n",
    "# Using the inspector to print the column names within the 'measurement' table and its types\n",
    "\n",
    "print (\"---- 0028AA table information --------\")\n",
    "\n",
    "columns = inspector.get_columns('Century_0028AA')\n",
    "for column in columns:\n",
    "    print(column[\"name\"], column[\"type\"])\n",
    "\n",
    "print (\"---- 0028AA_cals table information --------\")\n",
    "\n",
    "columns = inspector.get_columns('Century_0028AA_cals')\n",
    "for column in columns:\n",
    "    print(column[\"name\"], column[\"type\"])\n",
    "\n",
    "\n",
    "print (\"---- 0028AA_header table information --------\")\n",
    "\n",
    "columns = inspector.get_columns('Century_0028AA_header')\n",
    "for column in columns:\n",
    "    print(column[\"name\"], column[\"type\"])\n",
    "\n"
   ]
  },
  {
   "cell_type": "code",
   "execution_count": null,
   "metadata": {},
   "outputs": [],
   "source": [
    "# View all of the classes that automap found\n",
    "\n",
    "# Using the inspector to print the column names within the 'measurement' table and its types\n",
    "\n",
    "print (\"---- Century_9013A table information --------\")\n",
    "\n",
    "columns = inspector.get_columns('Century_9013A')\n",
    "for column in columns:\n",
    "    print(column[\"name\"], column[\"type\"])\n",
    "\n",
    "print (\"---- Century_9013A_cals table information --------\")\n",
    "\n",
    "columns = inspector.get_columns('Century_9013A_cals')\n",
    "for column in columns:\n",
    "    print(column[\"name\"], column[\"type\"])\n",
    "\n",
    "\n",
    "print (\"---- Century_9013A_header table information --------\")\n",
    "\n",
    "columns = inspector.get_columns('Century_9013A_header')\n",
    "for column in columns:\n",
    "    print(column[\"name\"], column[\"type\"])\n"
   ]
  },
  {
   "cell_type": "code",
   "execution_count": null,
   "metadata": {},
   "outputs": [],
   "source": [
    "# View all of the classes that automap found\n",
    "\n",
    "# Using the inspector to print the column names within the 'measurement' table and its types\n",
    "\n",
    "print (\"---- Century_9057A table information --------\")\n",
    "\n",
    "columns = inspector.get_columns('Century_9057A')\n",
    "for column in columns:\n",
    "    print(column[\"name\"], column[\"type\"])\n",
    "\n",
    "print (\"---- Century_9057A_cals table information --------\")\n",
    "\n",
    "columns = inspector.get_columns('Century_9057A_cals')\n",
    "for column in columns:\n",
    "    print(column[\"name\"], column[\"type\"])\n",
    "\n",
    "\n",
    "print (\"---- Century_9057A_header table information --------\")\n",
    "\n",
    "columns = inspector.get_columns('Century_9057A_header')\n",
    "for column in columns:\n",
    "    print(column[\"name\"], column[\"type\"])\n",
    "\n"
   ]
  },
  {
   "cell_type": "code",
   "execution_count": null,
   "metadata": {},
   "outputs": [],
   "source": [
    "# View all of the classes that automap found\n",
    "\n",
    "# Using the inspector to print the column names within the 'measurement' table and its types\n",
    "\n",
    "print (\"---- Century_9238AA table information --------\")\n",
    "\n",
    "columns = inspector.get_columns('Century_9238AA')\n",
    "for column in columns:\n",
    "    print(column[\"name\"], column[\"type\"])\n",
    "\n",
    "print (\"---- Century_9238AA_cals table information --------\")\n",
    "\n",
    "columns = inspector.get_columns('Century_9238AA_cals')\n",
    "for column in columns:\n",
    "    print(column[\"name\"], column[\"type\"])\n",
    "\n",
    "\n",
    "print (\"---- Century_9238AA_header table information --------\")\n",
    "\n",
    "columns = inspector.get_columns('Century_9238AA_header')\n",
    "for column in columns:\n",
    "    print(column[\"name\"], column[\"type\"])"
   ]
  },
  {
   "cell_type": "code",
   "execution_count": null,
   "metadata": {},
   "outputs": [],
   "source": [
    "# View all of the classes that automap found\n",
    "\n",
    "# Using the inspector to print the column names within the 'measurement' table and its types\n",
    "\n",
    "print (\"---- Century_9622A table information --------\")\n",
    "\n",
    "columns = inspector.get_columns('Century_9622A')\n",
    "for column in columns:\n",
    "    print(column[\"name\"], column[\"type\"])\n",
    "\n",
    "print (\"---- Century_9622A_cals table information --------\")\n",
    "\n",
    "columns = inspector.get_columns('Century_9622A_cals')\n",
    "for column in columns:\n",
    "    print(column[\"name\"], column[\"type\"])\n",
    "\n",
    "\n",
    "print (\"---- Century_9622A_header table information --------\")\n",
    "\n",
    "columns = inspector.get_columns('Century_9622A_header')\n",
    "for column in columns:\n",
    "    print(column[\"name\"], column[\"type\"])\n",
    "\n"
   ]
  },
  {
   "cell_type": "code",
   "execution_count": null,
   "metadata": {},
   "outputs": [],
   "source": [
    "# View all of the classes that automap found\n",
    "\n",
    "# Using the inspector to print the column names within the 'measurement' table and its types\n",
    "\n",
    "print (\"---- Century_9622C table information --------\")\n",
    "\n",
    "columns = inspector.get_columns('Century_9622C')\n",
    "for column in columns:\n",
    "    print(column[\"name\"], column[\"type\"])\n",
    "\n",
    "print (\"---- Century_9622C_cals table information --------\")\n",
    "\n",
    "columns = inspector.get_columns('Century_9622C_cals')\n",
    "for column in columns:\n",
    "    print(column[\"name\"], column[\"type\"])\n",
    "\n",
    "\n",
    "print (\"---- Century_9622C_header table information --------\")\n",
    "\n",
    "columns = inspector.get_columns('Century_9622C_header')\n",
    "for column in columns:\n",
    "    print(column[\"name\"], column[\"type\"])\n",
    "\n"
   ]
  },
  {
   "cell_type": "code",
   "execution_count": null,
   "metadata": {},
   "outputs": [],
   "source": [
    "inspector.get_table_names()"
   ]
  },
  {
   "attachments": {},
   "cell_type": "markdown",
   "metadata": {},
   "source": [
    "['Century_0028AA',\n",
    " 'Century_0028AA_cals',\n",
    " 'Century_0028AA_header',\n",
    " 'Century_9013A',\n",
    " 'Century_9013A_cals',\n",
    " 'Century_9013A_header',\n",
    " 'Century_9238AA',\n",
    " 'Century_9238AA_cals',\n",
    " 'Century_9238AA_header',\n",
    " 'Century_9238CA',\n",
    " 'Century_9238CA_cals',\n",
    " 'Century_9238CA_header',\n",
    " 'Century_9622A',\n",
    " 'Century_9622A_cals',\n",
    " 'Century_9622A_header',\n",
    " 'Century_9622C',\n",
    " 'Century_9622C_cals',\n",
    " 'Century_9622C_header',\n",
    " 'sqlite_sequence']"
   ]
  },
  {
   "cell_type": "code",
   "execution_count": null,
   "metadata": {},
   "outputs": [],
   "source": [
    "# reflect an existing database into a new model\n",
    "\n",
    "Base = automap_base()\n",
    "Base.prepare(autoload_with=engine, reflect=True)\n",
    "\n",
    "\n",
    "# reflect the tables\n",
    "Base.classes.keys()"
   ]
  },
  {
   "cell_type": "code",
   "execution_count": null,
   "metadata": {},
   "outputs": [],
   "source": [
    "# Save references to each table (For use for SQL Queries if required)\n",
    "\n",
    "# Map 0028AA class\n",
    "db_0028AA = Base.classes.Century_0028AA\n",
    "db_0028AA_cals = Base.classes.Century_0028AA_cals\n",
    "db_0028AA_header = Base.classes.Century_0028AA_header\n",
    "\n",
    "# Map 9013A class\n",
    "db_9013A = Base.classes.Century_9013A\n",
    "db_9013A_cals = Base.classes.Century_9013A_cals\n",
    "db_9013A_header = Base.classes.Century_9013A_header\n",
    "\n",
    "# Map 9238AA class\n",
    "db_9238AA = Base.classes.Century_9238AA\n",
    "db_9238AA_cals = Base.classes.Century_9238AA_cals\n",
    "db_9238AA_header = Base.classes.Century_9238AA_header\n",
    "\n",
    "# Map 9238CA class\n",
    "db_9238CA = Base.classes.Century_9238CA\n",
    "db_9238CA_cals = Base.classes.Century_9238CA_cals\n",
    "db_9238CA_header = Base.classes.Century_9238CA_header\n",
    "\n",
    "# Map 9622A class\n",
    "db_9622A = Base.classes.Century_9622A\n",
    "db_9622A_cals = Base.classes.Century_9622A_cals\n",
    "db_9622A_header = Base.classes.Century_9622A_header\n",
    "\n",
    "# Map 9622C class\n",
    "db_9622C = Base.classes.Century_9622C\n",
    "db_9622C_cals = Base.classes.Century_9622C_cals\n",
    "db_9622C_header = Base.classes.Century_9622C_header"
   ]
  },
  {
   "cell_type": "code",
   "execution_count": null,
   "metadata": {},
   "outputs": [],
   "source": [
    "# Create our session (link) from Python to the DB\n",
    "session = Session(engine)"
   ]
  },
  {
   "cell_type": "code",
   "execution_count": null,
   "metadata": {},
   "outputs": [],
   "source": [
    "# DB Load from SQL Database\n",
    "\n",
    "# Century_0028AA\n",
    "tool_0028AA_df = pd.read_sql_table('Century_0028AA', engine)\n",
    "tool_0028AA_cals_df = pd.read_sql_table('Century_0028AA_cals', engine)\n",
    "tool_0028AA_header_df = pd.read_sql_table('Century_0028AA_header', engine)\n",
    "\n",
    "# Century_9013A\n",
    "tool_9013A_df = pd.read_sql_table('Century_9013A', engine)\n",
    "tool_9013A_cals_df = pd.read_sql_table('Century_9013A_cals', engine)\n",
    "tool_9013A_header_df = pd.read_sql_table('Century_9013A_header', engine)\n",
    "\n",
    "# Century_9238AA\n",
    "tool_9238AA_df = pd.read_sql_table('Century_9238AA', engine)\n",
    "tool_9238AA_cals_df = pd.read_sql_table('Century_9238AA_cals', engine)\n",
    "tool_9238AA_header_df = pd.read_sql_table('Century_9238AA_header', engine)\n",
    "\n",
    "# Century_9238CA\n",
    "tool_9238CA_df = pd.read_sql_table('Century_9238CA', engine)\n",
    "tool_9238CA_cals_df = pd.read_sql_table('Century_9238CA_cals', engine)\n",
    "tool_9238CA_header_df = pd.read_sql_table('Century_9238CA_header', engine)\n",
    "\n",
    "# Century_9622A\n",
    "tool_9622A_df = pd.read_sql_table('Century_9622A', engine)\n",
    "tool_9622A_cals_df = pd.read_sql_table('Century_9622A_cals', engine)\n",
    "tool_9622A_header_df = pd.read_sql_table('Century_9622A_header', engine)\n",
    "\n",
    "# Century_9622C\n",
    "tool_9622C_df = pd.read_sql_table('Century_9622C', engine)\n",
    "tool_9622C_cals_df = pd.read_sql_table('Century_9622C_cals', engine)\n",
    "tool_9622C_header_df = pd.read_sql_table('Century_9622C_header', engine)"
   ]
  },
  {
   "cell_type": "code",
   "execution_count": null,
   "metadata": {},
   "outputs": [],
   "source": [
    "# tool_0028AA_df.head()"
   ]
  },
  {
   "cell_type": "code",
   "execution_count": null,
   "metadata": {},
   "outputs": [],
   "source": [
    "# tool_9622A_df.head()"
   ]
  },
  {
   "cell_type": "code",
   "execution_count": 8,
   "metadata": {},
   "outputs": [],
   "source": [
    "# create engine to Dataset 1 .sqlite\n",
    "engine_02 = create_engine(\"sqlite:///Resources/RH_2021_Field.db\")"
   ]
  },
  {
   "cell_type": "code",
   "execution_count": 9,
   "metadata": {},
   "outputs": [
    {
     "data": {
      "text/plain": [
       "['Century_0028AA',\n",
       " 'Century_0028AA_cals',\n",
       " 'Century_0028AA_header',\n",
       " 'Century_0037A',\n",
       " 'Century_0037A_cals',\n",
       " 'Century_0037A_header',\n",
       " 'Century_0037C',\n",
       " 'Century_0037C_cals',\n",
       " 'Century_0037C_header',\n",
       " 'Century_9622A',\n",
       " 'Century_9622A_cals',\n",
       " 'Century_9622A_header',\n",
       " 'Century_9622C',\n",
       " 'Century_9622C_cals',\n",
       " 'Century_9622C_header',\n",
       " 'sqlite_sequence']"
      ]
     },
     "execution_count": 9,
     "metadata": {},
     "output_type": "execute_result"
    }
   ],
   "source": [
    "# Create the inspector and connect it to the engine\n",
    "inspector_02= inspect(engine_02)\n",
    "# Collect the names of tables within the database\n",
    "inspector_02.get_table_names()\n"
   ]
  },
  {
   "cell_type": "code",
   "execution_count": 10,
   "metadata": {},
   "outputs": [
    {
     "data": {
      "text/plain": [
       "['Century_0028AA',\n",
       " 'Century_0028AA_cals',\n",
       " 'Century_0028AA_header',\n",
       " 'Century_0037A',\n",
       " 'Century_0037A_cals',\n",
       " 'Century_0037A_header',\n",
       " 'Century_0037C',\n",
       " 'Century_0037C_cals',\n",
       " 'Century_0037C_header',\n",
       " 'Century_9622A',\n",
       " 'Century_9622A_cals',\n",
       " 'Century_9622A_header',\n",
       " 'Century_9622C',\n",
       " 'Century_9622C_cals',\n",
       " 'Century_9622C_header']"
      ]
     },
     "execution_count": 10,
     "metadata": {},
     "output_type": "execute_result"
    }
   ],
   "source": [
    "# reflect an existing database into a new model\n",
    "\n",
    "Base_02 = automap_base()\n",
    "Base_02.prepare(autoload_with=engine_02, reflect=True)\n",
    "\n",
    "\n",
    "# reflect the tables\n",
    "Base_02.classes.keys()"
   ]
  },
  {
   "cell_type": "code",
   "execution_count": null,
   "metadata": {},
   "outputs": [],
   "source": [
    "# Save references to each table (For use for SQL Queries if required)\n",
    "\n",
    "# Map 0028AA class\n",
    "db_02_0028AA = Base_02.classes.Century_0028AA\n",
    "db_02_0028AA_cals = Base_02.classes.Century_0028AA_cals\n",
    "db_02_0028AA_header = Base_02.classes.Century_0028AA_header\n",
    "\n",
    "# # Map 0037A class\n",
    "# db_02_0037A = Base_02.classes.Century_0037A\n",
    "# db_02_0037A_cals = Base_02.classes.Century_0037A_cals\n",
    "# db_02_0037A_header = Base_02.classes.Century_0037A_header\n",
    "\n",
    "# # Map 0037C class\n",
    "# db_02_0037C = Base_02.classes.Century_0037C\n",
    "# db_02_0037C_cals = Base_02.classes.Century_0037C_cals\n",
    "# db_02_0037C_header = Base_02.classes.Century_0037C_header\n",
    "\n",
    "# Map 9622A class\n",
    "db_02_9622A = Base_02.classes.Century_9622A\n",
    "db_02_9622A_cals = Base_02.classes.Century_9622A_cals\n",
    "db_02_9622A_header = Base_02.classes.Century_9622A_header\n",
    "\n",
    "# Map 9622C class\n",
    "db_02_9622C = Base_02.classes.Century_9622C\n",
    "db_02_9622C_cals = Base_02.classes.Century_9622C_cals\n",
    "db_02_9622C_header = Base_02.classes.Century_9622C_header"
   ]
  },
  {
   "cell_type": "code",
   "execution_count": 11,
   "metadata": {},
   "outputs": [],
   "source": [
    "\n",
    "# Century_0028AA\n",
    "tool_0028AA_df_02 = pd.read_sql_table('Century_0028AA', engine_02)\n",
    "tool_0028AA_cals_df_02 = pd.read_sql_table('Century_0028AA_cals', engine_02)\n",
    "tool_0028AA_header_df_02 = pd.read_sql_table('Century_0028AA_header', engine_02)\n",
    "\n"
   ]
  },
  {
   "cell_type": "code",
   "execution_count": null,
   "metadata": {},
   "outputs": [],
   "source": [
    "# # Century_0037A\n",
    "# tool_0037A_df_02 = pd.read_sql_table('Century_0037A', engine_02)\n",
    "# tool_0037A_cals_df_02 = pd.read_sql_table('Century_0037A_cals', engine_02)\n",
    "# tool_0037A_header_df_02 = pd.read_sql_table('Century_0037A_header', engine_02)\n",
    "\n"
   ]
  },
  {
   "cell_type": "code",
   "execution_count": null,
   "metadata": {},
   "outputs": [],
   "source": [
    "# # Century_0037C\n",
    "# tool_0037C_df_02 = pd.read_sql_table('Century_0037C', engine_02)\n",
    "# tool_0037C_cals_df_02 = pd.read_sql_table('Century_0037C_cals', engine_02)\n",
    "# tool_0037C_header_df_02 = pd.read_sql_table('Century_0037C_header', engine_02)\n",
    "\n"
   ]
  },
  {
   "cell_type": "code",
   "execution_count": 12,
   "metadata": {},
   "outputs": [],
   "source": [
    "# Century_9622A\n",
    "tool_9622A_df_02 = pd.read_sql_table('Century_9622A', engine_02)\n",
    "tool_9622A_cals_df_02 = pd.read_sql_table('Century_9622A_cals', engine_02)\n",
    "tool_9622A_header_df_02 = pd.read_sql_table('Century_9622A_header', engine_02)"
   ]
  },
  {
   "cell_type": "code",
   "execution_count": 13,
   "metadata": {},
   "outputs": [],
   "source": [
    "# Century_9622C\n",
    "tool_9622C_df_02 = pd.read_sql_table('Century_9622C', engine_02)\n",
    "tool_9622C_cals_df_02 = pd.read_sql_table('Century_9622C_cals', engine_02)\n",
    "tool_9622C_header_df_02 = pd.read_sql_table('Century_9622C_header', engine_02)"
   ]
  },
  {
   "cell_type": "code",
   "execution_count": 14,
   "metadata": {},
   "outputs": [],
   "source": [
    "# create engine to Dataset .sqlite\n",
    "engine_03 = create_engine(\"sqlite:///Resources/RH_2022_Field.db\")"
   ]
  },
  {
   "cell_type": "code",
   "execution_count": 15,
   "metadata": {},
   "outputs": [
    {
     "data": {
      "text/plain": [
       "['Century_0028AA',\n",
       " 'Century_0028AA_cals',\n",
       " 'Century_0028AA_header',\n",
       " 'Century_9622A',\n",
       " 'Century_9622A_cals',\n",
       " 'Century_9622A_header',\n",
       " 'Century_9622C',\n",
       " 'Century_9622C_cals',\n",
       " 'Century_9622C_header',\n",
       " 'sqlite_sequence']"
      ]
     },
     "execution_count": 15,
     "metadata": {},
     "output_type": "execute_result"
    }
   ],
   "source": [
    "# Create the inspector and connect it to the engine\n",
    "inspector_03= inspect(engine_03)\n",
    "# Collect the names of tables within the database\n",
    "inspector_03.get_table_names()"
   ]
  },
  {
   "cell_type": "code",
   "execution_count": 16,
   "metadata": {},
   "outputs": [
    {
     "data": {
      "text/plain": [
       "['Century_0028AA',\n",
       " 'Century_0028AA_cals',\n",
       " 'Century_0028AA_header',\n",
       " 'Century_9622A',\n",
       " 'Century_9622A_cals',\n",
       " 'Century_9622A_header',\n",
       " 'Century_9622C',\n",
       " 'Century_9622C_cals',\n",
       " 'Century_9622C_header']"
      ]
     },
     "execution_count": 16,
     "metadata": {},
     "output_type": "execute_result"
    }
   ],
   "source": [
    "# reflect an existing database into a new model\n",
    "\n",
    "Base_03 = automap_base()\n",
    "Base_03.prepare(autoload_with=engine_03, reflect=True)\n",
    "\n",
    "\n",
    "# reflect the tables\n",
    "Base_03.classes.keys()"
   ]
  },
  {
   "cell_type": "code",
   "execution_count": 17,
   "metadata": {},
   "outputs": [],
   "source": [
    "# Save references to each table (For use for SQL Queries if required)\n",
    "\n",
    "# Map 0028AA class\n",
    "db_03_0028AA = Base_03.classes.Century_0028AA\n",
    "db_03_0028AA_cals = Base_03.classes.Century_0028AA_cals\n",
    "db_03_0028AA_header = Base_03.classes.Century_0028AA_header\n",
    "\n",
    "# Map 9622A class\n",
    "db_03_9622A = Base_03.classes.Century_9622A\n",
    "db_03_9622A_cals = Base_03.classes.Century_9622A_cals\n",
    "db_03_9622A_header = Base_03.classes.Century_9622A_header\n",
    "\n",
    "# Map 9622C class\n",
    "db_03_9622C = Base_03.classes.Century_9622C\n",
    "db_03_9622C_cals = Base_03.classes.Century_9622C_cals\n",
    "db_03_9622C_header = Base_03.classes.Century_9622C_header"
   ]
  },
  {
   "cell_type": "code",
   "execution_count": 18,
   "metadata": {},
   "outputs": [],
   "source": [
    "# Century_0028AA\n",
    "tool_0028AA_df_03 = pd.read_sql_table('Century_0028AA', engine_03)\n",
    "tool_0028AA_cals_df_03 = pd.read_sql_table('Century_0028AA_cals', engine_03)\n",
    "tool_0028AA_header_df_03 = pd.read_sql_table('Century_0028AA_header', engine_03)"
   ]
  },
  {
   "cell_type": "code",
   "execution_count": 19,
   "metadata": {},
   "outputs": [],
   "source": [
    "# Century_9622A\n",
    "tool_9622A_df_03 = pd.read_sql_table('Century_9622A', engine_03)\n",
    "tool_9622A_cals_df_03 = pd.read_sql_table('Century_9622A_cals', engine_03)\n",
    "tool_9622A_header_df_03 = pd.read_sql_table('Century_9622A_header', engine_03)"
   ]
  },
  {
   "cell_type": "code",
   "execution_count": 20,
   "metadata": {},
   "outputs": [],
   "source": [
    "# Century_9622C\n",
    "tool_9622C_df_03 = pd.read_sql_table('Century_9622C', engine_03)\n",
    "tool_9622C_cals_df_03 = pd.read_sql_table('Century_9622C_cals', engine_03)\n",
    "tool_9622C_header_df_03 = pd.read_sql_table('Century_9622C_header', engine_03)"
   ]
  },
  {
   "cell_type": "code",
   "execution_count": null,
   "metadata": {},
   "outputs": [],
   "source": [
    "# Photo inventory dates dates\n",
    "\n",
    "\n",
    "print (\"\\n----- Total dates------\\n\")\n",
    "totald = session.query(db_0028AA.well, func.count(db_0028AA.well), func.avg(db_0028AA.DENSITY_CPS)).\\\n",
    "    group_by(db_0028AA.well).\\\n",
    "    all()\n",
    "print (totald)\n",
    "\n",
    "# # Earliest Date\n",
    "\n",
    "# print (\"\\n----- Earliest Date------\\n\")\n",
    "# date = session.query(RMIS.DateofLastPhotoInvtest).order_by(RMIS.DateofLastPhotoInvtest).\\\n",
    "#     filter(RMIS.PhotoInventoryFrequency == '12Month').\\\n",
    "#     order_by(RMIS.DateofLastPhotoInvtest).first()\n",
    "# print (date)\n",
    "\n",
    "\n",
    "# # Latest Date\n",
    "\n",
    "# print (\"\\n----- Latest Date-------\\n\")\n",
    "# date = session.query(RMIS.DateofLastPhotoInvtest).order_by(RMIS.DateofLastPhotoInvtest.desc()).\\\n",
    "#     filter(RMIS.PhotoInventoryFrequency == '12Month').\\\n",
    "#     order_by(RMIS.DateofLastPhotoInvtest).first()\n",
    "# print (date)"
   ]
  },
  {
   "cell_type": "code",
   "execution_count": null,
   "metadata": {},
   "outputs": [],
   "source": [
    "# print (\"\\n----- Records in a location------\\n\")\n",
    "# totald = session.query(RMIS.BusinessLine,func.count(RMIS.FacilityNamewithFacilityID)).\\\n",
    "#     filter(RMIS.FacilityNamewithFacilityID == 'Jandakot Base OFS Operating Base - 8509').\\\n",
    "#     group_by(RMIS.BusinessLine).\\\n",
    "#     all()\n",
    "# print (totald)"
   ]
  },
  {
   "cell_type": "code",
   "execution_count": null,
   "metadata": {},
   "outputs": [],
   "source": [
    "# print (\"\\n----- Records in a location------\\n\")\n",
    "# totald = session.query(RMIS.FacilityNamewithFacilityID, RMIS.BusinessLine,func.count(RMIS.FacilityNamewithFacilityID)).\\\n",
    "#      group_by(RMIS.FacilityNamewithFacilityID).\\\n",
    "#      order_by(RMIS.BusinessLine).\\\n",
    "#     all()\n",
    "# print (totald)"
   ]
  },
  {
   "cell_type": "code",
   "execution_count": null,
   "metadata": {},
   "outputs": [],
   "source": [
    "# Calibration compliance\n",
    "\n",
    "# print (\"\\n----- Calibration compliance------\\n\")\n",
    "# CalComp = session.query(RMIS.FacilityNamewithFacilityID, RMIS.BusinessLine, RMIS.CalibrationComplianceIndicator, func.count(RMIS.CalibrationComplianceIndicator)).\\\n",
    "#     group_by(RMIS.FacilityNamewithFacilityID).\\\n",
    "#     group_by(RMIS.BusinessLine).\\\n",
    "#     group_by(RMIS.CalibrationComplianceIndicator).\\\n",
    "#     all()\n",
    "# print (CalComp)"
   ]
  },
  {
   "cell_type": "code",
   "execution_count": null,
   "metadata": {},
   "outputs": [],
   "source": [
    "# CalComp\n"
   ]
  },
  {
   "cell_type": "code",
   "execution_count": null,
   "metadata": {},
   "outputs": [],
   "source": [
    "#Leak Test compliance\n",
    "\n",
    "# print (\"\\n----- Leak Testcompliance------\\n\")\n",
    "# LeakTestComp = session.query(RMIS.FacilityNamewithFacilityID, RMIS.BusinessLine, RMIS.LeakTestComplianceIndicator, func.count(RMIS.LeakTestComplianceIndicator)).\\\n",
    "#     group_by(RMIS.FacilityNamewithFacilityID).\\\n",
    "#     group_by(RMIS.BusinessLine).\\\n",
    "#     group_by(RMIS.LeakTestComplianceIndicator).\\\n",
    "#     all()\n",
    "# print (LeakTestComp)"
   ]
  },
  {
   "cell_type": "code",
   "execution_count": null,
   "metadata": {},
   "outputs": [],
   "source": [
    "# Photo compliance\n",
    "\n",
    "# print (\"\\n----- Photo compliance------\\n\")\n",
    "# PhotoComp = session.query(RMIS.FacilityNamewithFacilityID, RMIS.BusinessLine, RMIS.ConfirmationPhotoComplianceIndicator, func.count(RMIS.ConfirmationPhotoComplianceIndicator)).\\\n",
    "#     group_by(RMIS.FacilityNamewithFacilityID).\\\n",
    "#     group_by(RMIS.BusinessLine).\\\n",
    "#     group_by(RMIS.ConfirmationPhotoComplianceIndicator).\\\n",
    "#     all()\n",
    "# print (PhotoComp)"
   ]
  },
  {
   "cell_type": "code",
   "execution_count": null,
   "metadata": {},
   "outputs": [],
   "source": [
    "# Total dates\n",
    "\n",
    "# print (\"\\n----- Total dates------\\n\")\n",
    "# totald = session.query(func.count(RMIS.Geounit)).all()\n",
    "# print (totald)"
   ]
  },
  {
   "cell_type": "code",
   "execution_count": null,
   "metadata": {},
   "outputs": [],
   "source": [
    "# print (\"\\n----- Photo compliance------\\n\")\n",
    "# PhotoComp = session.query(RMIS.Geounit, RMIS.Country, RMIS.FacilityNamewithFacilityID, RMIS.BusinessLine, RMIS.ConfirmationPhotoComplianceIndicator, func.count(RMIS.ConfirmationPhotoComplianceIndicator)).\\\n",
    "#     group_by(RMIS.FacilityNamewithFacilityID).\\\n",
    "#     group_by(RMIS.BusinessLine).\\\n",
    "#     group_by(RMIS.ConfirmationPhotoComplianceIndicator).\\\n",
    "#     all()\n",
    "# print (PhotoComp)\n"
   ]
  },
  {
   "cell_type": "code",
   "execution_count": null,
   "metadata": {},
   "outputs": [],
   "source": [
    "# PhotoComp\n"
   ]
  },
  {
   "cell_type": "code",
   "execution_count": null,
   "metadata": {},
   "outputs": [],
   "source": [
    "# PhotoComp_df = pd.DataFrame(PhotoComp, columns=['FacilityNamewithFacilityID', 'BusinessLine', 'ConfirmationPhotoComplianceIndicator','Count'])"
   ]
  },
  {
   "cell_type": "code",
   "execution_count": null,
   "metadata": {},
   "outputs": [],
   "source": [
    "# PhotoComp_df"
   ]
  },
  {
   "cell_type": "code",
   "execution_count": null,
   "metadata": {},
   "outputs": [],
   "source": [
    "    # for row in PhotoComp:\n",
    "    #     PhotoComp_dict = {}\n",
    "    #     PhotoComp_dict[\"FacilityNamewithFacilityID\"]=row.FacilityNamewithFacilityID\n",
    "    #     PhotoComp_dict[\"BusinessLine\"]=row.BusinessLine\n",
    "    #     PhotoComp_dict[\"ConfirmationPhotoComplianceIndicator\"]=row.ConfirmationPhotoComplianceIndicator\n",
    "    #     PhotoComp_dict[\"Count\"]=row[3]\n",
    "\n",
    "    #     PhotoComp_data_out.append(PhotoComp_dict)"
   ]
  },
  {
   "cell_type": "code",
   "execution_count": null,
   "metadata": {},
   "outputs": [],
   "source": [
    "# PhotoComp_data_out"
   ]
  },
  {
   "cell_type": "code",
   "execution_count": null,
   "metadata": {},
   "outputs": [],
   "source": [
    "# Close Session\n",
    "session.close()"
   ]
  }
 ],
 "metadata": {
  "kernelspec": {
   "display_name": "PythonData",
   "language": "python",
   "name": "python3"
  },
  "language_info": {
   "codemirror_mode": {
    "name": "ipython",
    "version": 3
   },
   "file_extension": ".py",
   "mimetype": "text/x-python",
   "name": "python",
   "nbconvert_exporter": "python",
   "pygments_lexer": "ipython3",
   "version": "3.7.13"
  },
  "orig_nbformat": 4
 },
 "nbformat": 4,
 "nbformat_minor": 2
}
