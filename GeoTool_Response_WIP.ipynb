{
 "cells": [
  {
   "cell_type": "code",
   "execution_count": 1,
   "metadata": {},
   "outputs": [],
   "source": [
    "# Dependencies and Setup\n",
    "import matplotlib.pyplot as plt\n",
    "import pandas as pd\n",
    "import numpy as np\n",
    "import requests\n",
    "import time\n",
    "from scipy.stats import linregress\n",
    "from datetime import datetime\n",
    "from scipy import stats\n",
    "\n",
    "\n",
    "import requests\n",
    "import json\n"
   ]
  },
  {
   "cell_type": "code",
   "execution_count": 2,
   "metadata": {},
   "outputs": [],
   "source": [
    "\n",
    "from matplotlib import style\n",
    "style.use('fivethirtyeight')\n",
    "\n",
    "import datetime as dt\n",
    "\n",
    "# Python SQL toolkit and Object Relational Mapper\n",
    "import sqlalchemy\n",
    "from sqlalchemy.ext.automap import automap_base\n",
    "from sqlalchemy.orm import Session\n",
    "from sqlalchemy import create_engine, func, inspect\n",
    "from sqlalchemy.ext.declarative import declarative_base\n",
    "\n",
    "import sqlite3"
   ]
  },
  {
   "attachments": {},
   "cell_type": "markdown",
   "metadata": {},
   "source": [
    "Loading Data"
   ]
  },
  {
   "cell_type": "code",
   "execution_count": null,
   "metadata": {},
   "outputs": [],
   "source": [
    "# # Read saved data: Registers and Local DB\n",
    "# db_0028aa = pd.read_csv(\"Resources/0028AA.csv\", encoding=\"utf-8\")\n",
    "\n",
    "# # Display sample data\n",
    "# db_0028aa.head()\n"
   ]
  },
  {
   "cell_type": "code",
   "execution_count": null,
   "metadata": {},
   "outputs": [],
   "source": [
    "# create engine to hawaii.sqlite\n",
    "# engine = create_engine(\"sqlite:///Resources/ProductionDB.db\")"
   ]
  },
  {
   "cell_type": "code",
   "execution_count": 27,
   "metadata": {},
   "outputs": [],
   "source": [
    "# create engine to Dataset 1 .sqlite\n",
    "engine_01 = create_engine(\"sqlite:///Resources/FMG_2023_Field.db\")"
   ]
  },
  {
   "cell_type": "code",
   "execution_count": 28,
   "metadata": {},
   "outputs": [
    {
     "data": {
      "text/plain": [
       "['Century_0028AA',\n",
       " 'Century_0028AA_cals',\n",
       " 'Century_0028AA_header',\n",
       " 'Century_9013A',\n",
       " 'Century_9013A_cals',\n",
       " 'Century_9013A_header',\n",
       " 'Century_9238AA',\n",
       " 'Century_9238AA_cals',\n",
       " 'Century_9238AA_header',\n",
       " 'Century_9238CA',\n",
       " 'Century_9238CA_cals',\n",
       " 'Century_9238CA_header',\n",
       " 'Century_9622A',\n",
       " 'Century_9622A_cals',\n",
       " 'Century_9622A_header',\n",
       " 'Century_9622C',\n",
       " 'Century_9622C_cals',\n",
       " 'Century_9622C_header',\n",
       " 'sqlite_sequence']"
      ]
     },
     "execution_count": 28,
     "metadata": {},
     "output_type": "execute_result"
    }
   ],
   "source": [
    "# Create the inspector and connect it to the engine\n",
    "inspector_01 = inspect(engine_01)\n",
    "# Collect the names of tables within the database\n",
    "inspector_01.get_table_names()\n"
   ]
  },
  {
   "cell_type": "code",
   "execution_count": null,
   "metadata": {},
   "outputs": [],
   "source": [
    "# View all of the classes that automap found\n",
    "\n",
    "# Using the inspector to print the column names within the 'measurement' table and its types\n",
    "\n",
    "print (\"---- 0028AA table information --------\")\n",
    "\n",
    "columns = inspector.get_columns('Century_0028AA')\n",
    "for column in columns:\n",
    "    print(column[\"name\"], column[\"type\"])\n",
    "\n",
    "print (\"---- 0028AA_cals table information --------\")\n",
    "\n",
    "columns = inspector.get_columns('Century_0028AA_cals')\n",
    "for column in columns:\n",
    "    print(column[\"name\"], column[\"type\"])\n",
    "\n",
    "\n",
    "print (\"---- 0028AA_header table information --------\")\n",
    "\n",
    "columns = inspector.get_columns('Century_0028AA_header')\n",
    "for column in columns:\n",
    "    print(column[\"name\"], column[\"type\"])\n",
    "\n"
   ]
  },
  {
   "cell_type": "code",
   "execution_count": null,
   "metadata": {},
   "outputs": [],
   "source": [
    "# View all of the classes that automap found\n",
    "\n",
    "# Using the inspector to print the column names within the 'measurement' table and its types\n",
    "\n",
    "print (\"---- Century_9013A table information --------\")\n",
    "\n",
    "columns = inspector.get_columns('Century_9013A')\n",
    "for column in columns:\n",
    "    print(column[\"name\"], column[\"type\"])\n",
    "\n",
    "print (\"---- Century_9013A_cals table information --------\")\n",
    "\n",
    "columns = inspector.get_columns('Century_9013A_cals')\n",
    "for column in columns:\n",
    "    print(column[\"name\"], column[\"type\"])\n",
    "\n",
    "\n",
    "print (\"---- Century_9013A_header table information --------\")\n",
    "\n",
    "columns = inspector.get_columns('Century_9013A_header')\n",
    "for column in columns:\n",
    "    print(column[\"name\"], column[\"type\"])\n"
   ]
  },
  {
   "cell_type": "code",
   "execution_count": null,
   "metadata": {},
   "outputs": [],
   "source": [
    "# View all of the classes that automap found\n",
    "\n",
    "# Using the inspector to print the column names within the 'measurement' table and its types\n",
    "\n",
    "print (\"---- Century_9057A table information --------\")\n",
    "\n",
    "columns = inspector.get_columns('Century_9057A')\n",
    "for column in columns:\n",
    "    print(column[\"name\"], column[\"type\"])\n",
    "\n",
    "print (\"---- Century_9057A_cals table information --------\")\n",
    "\n",
    "columns = inspector.get_columns('Century_9057A_cals')\n",
    "for column in columns:\n",
    "    print(column[\"name\"], column[\"type\"])\n",
    "\n",
    "\n",
    "print (\"---- Century_9057A_header table information --------\")\n",
    "\n",
    "columns = inspector.get_columns('Century_9057A_header')\n",
    "for column in columns:\n",
    "    print(column[\"name\"], column[\"type\"])\n",
    "\n"
   ]
  },
  {
   "cell_type": "code",
   "execution_count": null,
   "metadata": {},
   "outputs": [],
   "source": [
    "# View all of the classes that automap found\n",
    "\n",
    "# Using the inspector to print the column names within the 'measurement' table and its types\n",
    "\n",
    "print (\"---- Century_9238AA table information --------\")\n",
    "\n",
    "columns = inspector.get_columns('Century_9238AA')\n",
    "for column in columns:\n",
    "    print(column[\"name\"], column[\"type\"])\n",
    "\n",
    "print (\"---- Century_9238AA_cals table information --------\")\n",
    "\n",
    "columns = inspector.get_columns('Century_9238AA_cals')\n",
    "for column in columns:\n",
    "    print(column[\"name\"], column[\"type\"])\n",
    "\n",
    "\n",
    "print (\"---- Century_9238AA_header table information --------\")\n",
    "\n",
    "columns = inspector.get_columns('Century_9238AA_header')\n",
    "for column in columns:\n",
    "    print(column[\"name\"], column[\"type\"])"
   ]
  },
  {
   "cell_type": "code",
   "execution_count": null,
   "metadata": {},
   "outputs": [],
   "source": [
    "# View all of the classes that automap found\n",
    "\n",
    "# Using the inspector to print the column names within the 'measurement' table and its types\n",
    "\n",
    "print (\"---- Century_9622A table information --------\")\n",
    "\n",
    "columns = inspector.get_columns('Century_9622A')\n",
    "for column in columns:\n",
    "    print(column[\"name\"], column[\"type\"])\n",
    "\n",
    "print (\"---- Century_9622A_cals table information --------\")\n",
    "\n",
    "columns = inspector.get_columns('Century_9622A_cals')\n",
    "for column in columns:\n",
    "    print(column[\"name\"], column[\"type\"])\n",
    "\n",
    "\n",
    "print (\"---- Century_9622A_header table information --------\")\n",
    "\n",
    "columns = inspector.get_columns('Century_9622A_header')\n",
    "for column in columns:\n",
    "    print(column[\"name\"], column[\"type\"])\n",
    "\n"
   ]
  },
  {
   "cell_type": "code",
   "execution_count": null,
   "metadata": {},
   "outputs": [],
   "source": [
    "# View all of the classes that automap found\n",
    "\n",
    "# Using the inspector to print the column names within the 'measurement' table and its types\n",
    "\n",
    "print (\"---- Century_9622C table information --------\")\n",
    "\n",
    "columns = inspector.get_columns('Century_9622C')\n",
    "for column in columns:\n",
    "    print(column[\"name\"], column[\"type\"])\n",
    "\n",
    "print (\"---- Century_9622C_cals table information --------\")\n",
    "\n",
    "columns = inspector.get_columns('Century_9622C_cals')\n",
    "for column in columns:\n",
    "    print(column[\"name\"], column[\"type\"])\n",
    "\n",
    "\n",
    "print (\"---- Century_9622C_header table information --------\")\n",
    "\n",
    "columns = inspector.get_columns('Century_9622C_header')\n",
    "for column in columns:\n",
    "    print(column[\"name\"], column[\"type\"])\n",
    "\n"
   ]
  },
  {
   "cell_type": "code",
   "execution_count": null,
   "metadata": {},
   "outputs": [],
   "source": [
    "inspector_01.get_table_names()"
   ]
  },
  {
   "attachments": {},
   "cell_type": "markdown",
   "metadata": {},
   "source": [
    "['Century_0028AA',\n",
    " 'Century_0028AA_cals',\n",
    " 'Century_0028AA_header',\n",
    " 'Century_9013A',\n",
    " 'Century_9013A_cals',\n",
    " 'Century_9013A_header',\n",
    " 'Century_9238AA',\n",
    " 'Century_9238AA_cals',\n",
    " 'Century_9238AA_header',\n",
    " 'Century_9238CA',\n",
    " 'Century_9238CA_cals',\n",
    " 'Century_9238CA_header',\n",
    " 'Century_9622A',\n",
    " 'Century_9622A_cals',\n",
    " 'Century_9622A_header',\n",
    " 'Century_9622C',\n",
    " 'Century_9622C_cals',\n",
    " 'Century_9622C_header',\n",
    " 'sqlite_sequence']"
   ]
  },
  {
   "cell_type": "code",
   "execution_count": 29,
   "metadata": {},
   "outputs": [
    {
     "data": {
      "text/plain": [
       "['Century_0028AA',\n",
       " 'Century_0028AA_cals',\n",
       " 'Century_0028AA_header',\n",
       " 'Century_9013A',\n",
       " 'Century_9013A_cals',\n",
       " 'Century_9013A_header',\n",
       " 'Century_9238AA',\n",
       " 'Century_9238AA_cals',\n",
       " 'Century_9238AA_header',\n",
       " 'Century_9238CA',\n",
       " 'Century_9238CA_cals',\n",
       " 'Century_9238CA_header',\n",
       " 'Century_9622A',\n",
       " 'Century_9622A_cals',\n",
       " 'Century_9622A_header',\n",
       " 'Century_9622C',\n",
       " 'Century_9622C_cals',\n",
       " 'Century_9622C_header']"
      ]
     },
     "execution_count": 29,
     "metadata": {},
     "output_type": "execute_result"
    }
   ],
   "source": [
    "# reflect an existing database into a new model\n",
    "\n",
    "Base_01 = automap_base()\n",
    "Base_01.prepare(autoload_with=engine_01, reflect=True)\n",
    "\n",
    "\n",
    "# reflect the tables\n",
    "Base_01.classes.keys()"
   ]
  },
  {
   "cell_type": "code",
   "execution_count": 30,
   "metadata": {},
   "outputs": [],
   "source": [
    "# Save references to each table (For use for SQL Queries if required)\n",
    "\n",
    "# Map 0028AA class\n",
    "db_0028AA = Base_01.classes.Century_0028AA\n",
    "db_0028AA_cals = Base_01.classes.Century_0028AA_cals\n",
    "db_0028AA_header = Base_01.classes.Century_0028AA_header\n",
    "\n",
    "# Map 9013A class\n",
    "db_9013A = Base_01.classes.Century_9013A\n",
    "db_9013A_cals = Base_01.classes.Century_9013A_cals\n",
    "db_9013A_header = Base_01.classes.Century_9013A_header\n",
    "\n",
    "# Map 9238AA class\n",
    "db_9238AA = Base_01.classes.Century_9238AA\n",
    "db_9238AA_cals = Base_01.classes.Century_9238AA_cals\n",
    "db_9238AA_header = Base_01.classes.Century_9238AA_header\n",
    "\n",
    "# Map 9238CA class\n",
    "db_9238CA = Base_01.classes.Century_9238CA\n",
    "db_9238CA_cals = Base_01.classes.Century_9238CA_cals\n",
    "db_9238CA_header = Base_01.classes.Century_9238CA_header\n",
    "\n",
    "# Map 9622A class\n",
    "db_9622A = Base_01.classes.Century_9622A\n",
    "db_9622A_cals = Base_01.classes.Century_9622A_cals\n",
    "db_9622A_header = Base_01.classes.Century_9622A_header\n",
    "\n",
    "# Map 9622C class\n",
    "db_9622C = Base_01.classes.Century_9622C\n",
    "db_9622C_cals = Base_01.classes.Century_9622C_cals\n",
    "db_9622C_header = Base_01.classes.Century_9622C_header"
   ]
  },
  {
   "cell_type": "code",
   "execution_count": null,
   "metadata": {},
   "outputs": [],
   "source": [
    "# Create our session (link) from Python to the DB\n",
    "session = Session(engine_01)"
   ]
  },
  {
   "cell_type": "code",
   "execution_count": 31,
   "metadata": {},
   "outputs": [],
   "source": [
    "# DB Load from SQL Database\n",
    "\n",
    "# Century_0028AA\n",
    "tool_0028AA_df_01 = pd.read_sql_table('Century_0028AA', engine_01)\n",
    "tool_0028AA_cals_df_01 = pd.read_sql_table('Century_0028AA_cals', engine_01)\n",
    "tool_0028AA_header_df_01 = pd.read_sql_table('Century_0028AA_header', engine_01)\n",
    "\n",
    "# Century_9013A\n",
    "tool_9013A_df_01 = pd.read_sql_table('Century_9013A', engine_01)\n",
    "tool_9013A_cals_df_01 = pd.read_sql_table('Century_9013A_cals', engine_01)\n",
    "tool_9013A_header_df_01 = pd.read_sql_table('Century_9013A_header', engine_01)\n",
    "\n",
    "# Century_9238AA\n",
    "tool_9238AA_df_01 = pd.read_sql_table('Century_9238AA', engine_01)\n",
    "tool_9238AA_cals_df_01 = pd.read_sql_table('Century_9238AA_cals', engine_01)\n",
    "tool_9238AA_header_df_01 = pd.read_sql_table('Century_9238AA_header', engine_01)\n",
    "\n",
    "# Century_9238CA\n",
    "tool_9238CA_df_01 = pd.read_sql_table('Century_9238CA', engine_01)\n",
    "tool_9238CA_cals_df_01 = pd.read_sql_table('Century_9238CA_cals', engine_01)\n",
    "tool_9238CA_header_df_01 = pd.read_sql_table('Century_9238CA_header', engine_01)\n",
    "\n",
    "# Century_9622A\n",
    "tool_9622A_df_01 = pd.read_sql_table('Century_9622A', engine_01)\n",
    "tool_9622A_cals_df_01 = pd.read_sql_table('Century_9622A_cals', engine_01)\n",
    "tool_9622A_header_df_01 = pd.read_sql_table('Century_9622A_header', engine_01)\n",
    "\n",
    "# Century_9622C\n",
    "tool_9622C_df_01 = pd.read_sql_table('Century_9622C', engine_01)\n",
    "tool_9622C_cals_df_01 = pd.read_sql_table('Century_9622C_cals', engine_01)\n",
    "tool_9622C_header_df_01 = pd.read_sql_table('Century_9622C_header', engine_01)"
   ]
  },
  {
   "cell_type": "code",
   "execution_count": null,
   "metadata": {},
   "outputs": [],
   "source": [
    "# tool_0028AA_df.head()"
   ]
  },
  {
   "cell_type": "code",
   "execution_count": null,
   "metadata": {},
   "outputs": [],
   "source": [
    "# tool_9622A_df.head()"
   ]
  },
  {
   "cell_type": "code",
   "execution_count": 8,
   "metadata": {},
   "outputs": [],
   "source": [
    "# create engine to Dataset 1 .sqlite\n",
    "engine_02 = create_engine(\"sqlite:///Resources/RH_2021_Field.db\")"
   ]
  },
  {
   "cell_type": "code",
   "execution_count": 9,
   "metadata": {},
   "outputs": [
    {
     "data": {
      "text/plain": [
       "['Century_0028AA',\n",
       " 'Century_0028AA_cals',\n",
       " 'Century_0028AA_header',\n",
       " 'Century_0037A',\n",
       " 'Century_0037A_cals',\n",
       " 'Century_0037A_header',\n",
       " 'Century_0037C',\n",
       " 'Century_0037C_cals',\n",
       " 'Century_0037C_header',\n",
       " 'Century_9622A',\n",
       " 'Century_9622A_cals',\n",
       " 'Century_9622A_header',\n",
       " 'Century_9622C',\n",
       " 'Century_9622C_cals',\n",
       " 'Century_9622C_header',\n",
       " 'sqlite_sequence']"
      ]
     },
     "execution_count": 9,
     "metadata": {},
     "output_type": "execute_result"
    }
   ],
   "source": [
    "# Create the inspector and connect it to the engine\n",
    "inspector_02= inspect(engine_02)\n",
    "# Collect the names of tables within the database\n",
    "inspector_02.get_table_names()\n"
   ]
  },
  {
   "cell_type": "code",
   "execution_count": 10,
   "metadata": {},
   "outputs": [
    {
     "data": {
      "text/plain": [
       "['Century_0028AA',\n",
       " 'Century_0028AA_cals',\n",
       " 'Century_0028AA_header',\n",
       " 'Century_0037A',\n",
       " 'Century_0037A_cals',\n",
       " 'Century_0037A_header',\n",
       " 'Century_0037C',\n",
       " 'Century_0037C_cals',\n",
       " 'Century_0037C_header',\n",
       " 'Century_9622A',\n",
       " 'Century_9622A_cals',\n",
       " 'Century_9622A_header',\n",
       " 'Century_9622C',\n",
       " 'Century_9622C_cals',\n",
       " 'Century_9622C_header']"
      ]
     },
     "execution_count": 10,
     "metadata": {},
     "output_type": "execute_result"
    }
   ],
   "source": [
    "# reflect an existing database into a new model\n",
    "\n",
    "Base_02 = automap_base()\n",
    "Base_02.prepare(autoload_with=engine_02, reflect=True)\n",
    "\n",
    "\n",
    "# reflect the tables\n",
    "Base_02.classes.keys()"
   ]
  },
  {
   "cell_type": "code",
   "execution_count": 11,
   "metadata": {},
   "outputs": [],
   "source": [
    "# Save references to each table (For use for SQL Queries if required)\n",
    "\n",
    "# Map 0028AA class\n",
    "db_02_0028AA = Base_02.classes.Century_0028AA\n",
    "db_02_0028AA_cals = Base_02.classes.Century_0028AA_cals\n",
    "db_02_0028AA_header = Base_02.classes.Century_0028AA_header\n",
    "\n",
    "# # Map 0037A class\n",
    "# db_02_0037A = Base_02.classes.Century_0037A\n",
    "# db_02_0037A_cals = Base_02.classes.Century_0037A_cals\n",
    "# db_02_0037A_header = Base_02.classes.Century_0037A_header\n",
    "\n",
    "# # Map 0037C class\n",
    "# db_02_0037C = Base_02.classes.Century_0037C\n",
    "# db_02_0037C_cals = Base_02.classes.Century_0037C_cals\n",
    "# db_02_0037C_header = Base_02.classes.Century_0037C_header\n",
    "\n",
    "# Map 9622A class\n",
    "db_02_9622A = Base_02.classes.Century_9622A\n",
    "db_02_9622A_cals = Base_02.classes.Century_9622A_cals\n",
    "db_02_9622A_header = Base_02.classes.Century_9622A_header\n",
    "\n",
    "# Map 9622C class\n",
    "db_02_9622C = Base_02.classes.Century_9622C\n",
    "db_02_9622C_cals = Base_02.classes.Century_9622C_cals\n",
    "db_02_9622C_header = Base_02.classes.Century_9622C_header"
   ]
  },
  {
   "cell_type": "code",
   "execution_count": 12,
   "metadata": {},
   "outputs": [],
   "source": [
    "\n",
    "# Century_0028AA\n",
    "tool_0028AA_df_02 = pd.read_sql_table('Century_0028AA', engine_02)\n",
    "tool_0028AA_cals_df_02 = pd.read_sql_table('Century_0028AA_cals', engine_02)\n",
    "tool_0028AA_header_df_02 = pd.read_sql_table('Century_0028AA_header', engine_02)\n",
    "\n"
   ]
  },
  {
   "cell_type": "code",
   "execution_count": null,
   "metadata": {},
   "outputs": [],
   "source": [
    "# # Century_0037A\n",
    "# tool_0037A_df_02 = pd.read_sql_table('Century_0037A', engine_02)\n",
    "# tool_0037A_cals_df_02 = pd.read_sql_table('Century_0037A_cals', engine_02)\n",
    "# tool_0037A_header_df_02 = pd.read_sql_table('Century_0037A_header', engine_02)\n",
    "\n"
   ]
  },
  {
   "cell_type": "code",
   "execution_count": null,
   "metadata": {},
   "outputs": [],
   "source": [
    "# # Century_0037C\n",
    "# tool_0037C_df_02 = pd.read_sql_table('Century_0037C', engine_02)\n",
    "# tool_0037C_cals_df_02 = pd.read_sql_table('Century_0037C_cals', engine_02)\n",
    "# tool_0037C_header_df_02 = pd.read_sql_table('Century_0037C_header', engine_02)\n",
    "\n"
   ]
  },
  {
   "cell_type": "code",
   "execution_count": 13,
   "metadata": {},
   "outputs": [],
   "source": [
    "# Century_9622A\n",
    "tool_9622A_df_02 = pd.read_sql_table('Century_9622A', engine_02)\n",
    "tool_9622A_cals_df_02 = pd.read_sql_table('Century_9622A_cals', engine_02)\n",
    "tool_9622A_header_df_02 = pd.read_sql_table('Century_9622A_header', engine_02)"
   ]
  },
  {
   "cell_type": "code",
   "execution_count": 14,
   "metadata": {},
   "outputs": [],
   "source": [
    "# Century_9622C\n",
    "tool_9622C_df_02 = pd.read_sql_table('Century_9622C', engine_02)\n",
    "tool_9622C_cals_df_02 = pd.read_sql_table('Century_9622C_cals', engine_02)\n",
    "tool_9622C_header_df_02 = pd.read_sql_table('Century_9622C_header', engine_02)"
   ]
  },
  {
   "cell_type": "code",
   "execution_count": 15,
   "metadata": {},
   "outputs": [],
   "source": [
    "# create engine to Dataset .sqlite\n",
    "engine_03 = create_engine(\"sqlite:///Resources/RH_2022_Field.db\")"
   ]
  },
  {
   "cell_type": "code",
   "execution_count": 16,
   "metadata": {},
   "outputs": [
    {
     "data": {
      "text/plain": [
       "['Century_0028AA',\n",
       " 'Century_0028AA_cals',\n",
       " 'Century_0028AA_header',\n",
       " 'Century_9622A',\n",
       " 'Century_9622A_cals',\n",
       " 'Century_9622A_header',\n",
       " 'Century_9622C',\n",
       " 'Century_9622C_cals',\n",
       " 'Century_9622C_header',\n",
       " 'sqlite_sequence']"
      ]
     },
     "execution_count": 16,
     "metadata": {},
     "output_type": "execute_result"
    }
   ],
   "source": [
    "# Create the inspector and connect it to the engine\n",
    "inspector_03= inspect(engine_03)\n",
    "# Collect the names of tables within the database\n",
    "inspector_03.get_table_names()"
   ]
  },
  {
   "cell_type": "code",
   "execution_count": 17,
   "metadata": {},
   "outputs": [
    {
     "data": {
      "text/plain": [
       "['Century_0028AA',\n",
       " 'Century_0028AA_cals',\n",
       " 'Century_0028AA_header',\n",
       " 'Century_9622A',\n",
       " 'Century_9622A_cals',\n",
       " 'Century_9622A_header',\n",
       " 'Century_9622C',\n",
       " 'Century_9622C_cals',\n",
       " 'Century_9622C_header']"
      ]
     },
     "execution_count": 17,
     "metadata": {},
     "output_type": "execute_result"
    }
   ],
   "source": [
    "# reflect an existing database into a new model\n",
    "\n",
    "Base_03 = automap_base()\n",
    "Base_03.prepare(autoload_with=engine_03, reflect=True)\n",
    "\n",
    "\n",
    "# reflect the tables\n",
    "Base_03.classes.keys()"
   ]
  },
  {
   "cell_type": "code",
   "execution_count": 18,
   "metadata": {},
   "outputs": [],
   "source": [
    "# Save references to each table (For use for SQL Queries if required)\n",
    "\n",
    "# Map 0028AA class\n",
    "db_03_0028AA = Base_03.classes.Century_0028AA\n",
    "db_03_0028AA_cals = Base_03.classes.Century_0028AA_cals\n",
    "db_03_0028AA_header = Base_03.classes.Century_0028AA_header\n",
    "\n",
    "# Map 9622A class\n",
    "db_03_9622A = Base_03.classes.Century_9622A\n",
    "db_03_9622A_cals = Base_03.classes.Century_9622A_cals\n",
    "db_03_9622A_header = Base_03.classes.Century_9622A_header\n",
    "\n",
    "# Map 9622C class\n",
    "db_03_9622C = Base_03.classes.Century_9622C\n",
    "db_03_9622C_cals = Base_03.classes.Century_9622C_cals\n",
    "db_03_9622C_header = Base_03.classes.Century_9622C_header"
   ]
  },
  {
   "cell_type": "code",
   "execution_count": 19,
   "metadata": {},
   "outputs": [],
   "source": [
    "# Century_0028AA\n",
    "tool_0028AA_df_03 = pd.read_sql_table('Century_0028AA', engine_03)\n",
    "tool_0028AA_cals_df_03 = pd.read_sql_table('Century_0028AA_cals', engine_03)\n",
    "tool_0028AA_header_df_03 = pd.read_sql_table('Century_0028AA_header', engine_03)"
   ]
  },
  {
   "cell_type": "code",
   "execution_count": 20,
   "metadata": {},
   "outputs": [],
   "source": [
    "# Century_9622A\n",
    "tool_9622A_df_03 = pd.read_sql_table('Century_9622A', engine_03)\n",
    "tool_9622A_cals_df_03 = pd.read_sql_table('Century_9622A_cals', engine_03)\n",
    "tool_9622A_header_df_03 = pd.read_sql_table('Century_9622A_header', engine_03)"
   ]
  },
  {
   "cell_type": "code",
   "execution_count": 21,
   "metadata": {},
   "outputs": [],
   "source": [
    "# Century_9622C\n",
    "tool_9622C_df_03 = pd.read_sql_table('Century_9622C', engine_03)\n",
    "tool_9622C_cals_df_03 = pd.read_sql_table('Century_9622C_cals', engine_03)\n",
    "tool_9622C_header_df_03 = pd.read_sql_table('Century_9622C_header', engine_03)"
   ]
  },
  {
   "cell_type": "code",
   "execution_count": 32,
   "metadata": {},
   "outputs": [],
   "source": [
    "tool_0028AA_df_01[\"Dataset\"]=\"Cust_01\"\n",
    "tool_0028AA_cals_df_01[\"Dataset\"]=\"Cust_01\"\n",
    "tool_0028AA_header_df_01[\"Dataset\"]=\"Cust_01\"\n",
    "\n",
    "tool_0028AA_df_02[\"Dataset\"]=\"Cust_02\"\n",
    "tool_0028AA_cals_df_02[\"Dataset\"]=\"Cust_02\"\n",
    "tool_0028AA_header_df_02[\"Dataset\"]=\"Cust_02\"\n",
    "\n",
    "tool_0028AA_df_03[\"Dataset\"]=\"Cust_03\"\n",
    "tool_0028AA_cals_df_03[\"Dataset\"]=\"Cust_03\"\n",
    "tool_0028AA_header_df_03[\"Dataset\"]=\"Cust_03\""
   ]
  },
  {
   "cell_type": "code",
   "execution_count": 33,
   "metadata": {},
   "outputs": [
    {
     "data": {
      "text/html": [
       "<div>\n",
       "<style scoped>\n",
       "    .dataframe tbody tr th:only-of-type {\n",
       "        vertical-align: middle;\n",
       "    }\n",
       "\n",
       "    .dataframe tbody tr th {\n",
       "        vertical-align: top;\n",
       "    }\n",
       "\n",
       "    .dataframe thead th {\n",
       "        text-align: right;\n",
       "    }\n",
       "</style>\n",
       "<table border=\"1\" class=\"dataframe\">\n",
       "  <thead>\n",
       "    <tr style=\"text-align: right;\">\n",
       "      <th></th>\n",
       "      <th>Depth_M</th>\n",
       "      <th>CALIPER_MM</th>\n",
       "      <th>DENSITY_G/CC</th>\n",
       "      <th>POR(DEN)_PERCENT</th>\n",
       "      <th>DENSITY_CPS</th>\n",
       "      <th>TENSION_CPS</th>\n",
       "      <th>TIME_MINUTES</th>\n",
       "      <th>well</th>\n",
       "      <th>file</th>\n",
       "      <th>TIME_SECONDS</th>\n",
       "      <th>CALIPER_CPS</th>\n",
       "      <th>TENSION_POUNDS</th>\n",
       "      <th>ind</th>\n",
       "      <th>Dataset</th>\n",
       "    </tr>\n",
       "  </thead>\n",
       "  <tbody>\n",
       "    <tr>\n",
       "      <th>0</th>\n",
       "      <td>0.8</td>\n",
       "      <td>-999.250000</td>\n",
       "      <td>-999.250000</td>\n",
       "      <td>-999.250000</td>\n",
       "      <td>-999.250</td>\n",
       "      <td>-10.0</td>\n",
       "      <td>-999.250</td>\n",
       "      <td>RHGC12609</td>\n",
       "      <td>RHGC12609_02-09-23_12-13_0028AA_.10_0.80_51.10...</td>\n",
       "      <td>NaN</td>\n",
       "      <td>NaN</td>\n",
       "      <td>NaN</td>\n",
       "      <td>1</td>\n",
       "      <td>Cust_01</td>\n",
       "    </tr>\n",
       "    <tr>\n",
       "      <th>1</th>\n",
       "      <td>0.9</td>\n",
       "      <td>140.508286</td>\n",
       "      <td>-999.250000</td>\n",
       "      <td>-999.250000</td>\n",
       "      <td>-999.250</td>\n",
       "      <td>-10.0</td>\n",
       "      <td>-999.250</td>\n",
       "      <td>RHGC12609</td>\n",
       "      <td>RHGC12609_02-09-23_12-13_0028AA_.10_0.80_51.10...</td>\n",
       "      <td>NaN</td>\n",
       "      <td>NaN</td>\n",
       "      <td>NaN</td>\n",
       "      <td>2</td>\n",
       "      <td>Cust_01</td>\n",
       "    </tr>\n",
       "    <tr>\n",
       "      <th>2</th>\n",
       "      <td>1.0</td>\n",
       "      <td>139.440918</td>\n",
       "      <td>-999.250000</td>\n",
       "      <td>-999.250000</td>\n",
       "      <td>-999.250</td>\n",
       "      <td>-10.0</td>\n",
       "      <td>1.599</td>\n",
       "      <td>RHGC12609</td>\n",
       "      <td>RHGC12609_02-09-23_12-13_0028AA_.10_0.80_51.10...</td>\n",
       "      <td>NaN</td>\n",
       "      <td>NaN</td>\n",
       "      <td>NaN</td>\n",
       "      <td>3</td>\n",
       "      <td>Cust_01</td>\n",
       "    </tr>\n",
       "    <tr>\n",
       "      <th>3</th>\n",
       "      <td>1.1</td>\n",
       "      <td>140.705475</td>\n",
       "      <td>-999.250000</td>\n",
       "      <td>-999.250000</td>\n",
       "      <td>-999.250</td>\n",
       "      <td>-10.0</td>\n",
       "      <td>1.701</td>\n",
       "      <td>RHGC12609</td>\n",
       "      <td>RHGC12609_02-09-23_12-13_0028AA_.10_0.80_51.10...</td>\n",
       "      <td>NaN</td>\n",
       "      <td>NaN</td>\n",
       "      <td>NaN</td>\n",
       "      <td>4</td>\n",
       "      <td>Cust_01</td>\n",
       "    </tr>\n",
       "    <tr>\n",
       "      <th>4</th>\n",
       "      <td>1.2</td>\n",
       "      <td>141.967316</td>\n",
       "      <td>2.731585</td>\n",
       "      <td>-5.263559</td>\n",
       "      <td>15461.875</td>\n",
       "      <td>-10.0</td>\n",
       "      <td>1.699</td>\n",
       "      <td>RHGC12609</td>\n",
       "      <td>RHGC12609_02-09-23_12-13_0028AA_.10_0.80_51.10...</td>\n",
       "      <td>NaN</td>\n",
       "      <td>NaN</td>\n",
       "      <td>NaN</td>\n",
       "      <td>5</td>\n",
       "      <td>Cust_01</td>\n",
       "    </tr>\n",
       "  </tbody>\n",
       "</table>\n",
       "</div>"
      ],
      "text/plain": [
       "   Depth_M  CALIPER_MM  DENSITY_G/CC  POR(DEN)_PERCENT  DENSITY_CPS  \\\n",
       "0      0.8 -999.250000   -999.250000       -999.250000     -999.250   \n",
       "1      0.9  140.508286   -999.250000       -999.250000     -999.250   \n",
       "2      1.0  139.440918   -999.250000       -999.250000     -999.250   \n",
       "3      1.1  140.705475   -999.250000       -999.250000     -999.250   \n",
       "4      1.2  141.967316      2.731585         -5.263559    15461.875   \n",
       "\n",
       "   TENSION_CPS  TIME_MINUTES       well  \\\n",
       "0        -10.0      -999.250  RHGC12609   \n",
       "1        -10.0      -999.250  RHGC12609   \n",
       "2        -10.0         1.599  RHGC12609   \n",
       "3        -10.0         1.701  RHGC12609   \n",
       "4        -10.0         1.699  RHGC12609   \n",
       "\n",
       "                                                file  TIME_SECONDS  \\\n",
       "0  RHGC12609_02-09-23_12-13_0028AA_.10_0.80_51.10...           NaN   \n",
       "1  RHGC12609_02-09-23_12-13_0028AA_.10_0.80_51.10...           NaN   \n",
       "2  RHGC12609_02-09-23_12-13_0028AA_.10_0.80_51.10...           NaN   \n",
       "3  RHGC12609_02-09-23_12-13_0028AA_.10_0.80_51.10...           NaN   \n",
       "4  RHGC12609_02-09-23_12-13_0028AA_.10_0.80_51.10...           NaN   \n",
       "\n",
       "   CALIPER_CPS  TENSION_POUNDS  ind  Dataset  \n",
       "0          NaN             NaN    1  Cust_01  \n",
       "1          NaN             NaN    2  Cust_01  \n",
       "2          NaN             NaN    3  Cust_01  \n",
       "3          NaN             NaN    4  Cust_01  \n",
       "4          NaN             NaN    5  Cust_01  "
      ]
     },
     "execution_count": 33,
     "metadata": {},
     "output_type": "execute_result"
    }
   ],
   "source": [
    "tool_0028AA_df_01.head()"
   ]
  },
  {
   "cell_type": "code",
   "execution_count": null,
   "metadata": {},
   "outputs": [],
   "source": [
    "# Photo inventory dates dates\n",
    "\n",
    "\n",
    "print (\"\\n----- Total dates------\\n\")\n",
    "totald = session.query(db_0028AA.well, func.count(db_0028AA.well), func.avg(db_0028AA.DENSITY_CPS)).\\\n",
    "    group_by(db_0028AA.well).\\\n",
    "    all()\n",
    "print (totald)\n",
    "\n",
    "# # Earliest Date\n",
    "\n",
    "# print (\"\\n----- Earliest Date------\\n\")\n",
    "# date = session.query(RMIS.DateofLastPhotoInvtest).order_by(RMIS.DateofLastPhotoInvtest).\\\n",
    "#     filter(RMIS.PhotoInventoryFrequency == '12Month').\\\n",
    "#     order_by(RMIS.DateofLastPhotoInvtest).first()\n",
    "# print (date)\n",
    "\n",
    "\n",
    "# # Latest Date\n",
    "\n",
    "# print (\"\\n----- Latest Date-------\\n\")\n",
    "# date = session.query(RMIS.DateofLastPhotoInvtest).order_by(RMIS.DateofLastPhotoInvtest.desc()).\\\n",
    "#     filter(RMIS.PhotoInventoryFrequency == '12Month').\\\n",
    "#     order_by(RMIS.DateofLastPhotoInvtest).first()\n",
    "# print (date)"
   ]
  },
  {
   "cell_type": "code",
   "execution_count": null,
   "metadata": {},
   "outputs": [],
   "source": [
    "# print (\"\\n----- Records in a location------\\n\")\n",
    "# totald = session.query(RMIS.BusinessLine,func.count(RMIS.FacilityNamewithFacilityID)).\\\n",
    "#     filter(RMIS.FacilityNamewithFacilityID == 'Jandakot Base OFS Operating Base - 8509').\\\n",
    "#     group_by(RMIS.BusinessLine).\\\n",
    "#     all()\n",
    "# print (totald)"
   ]
  },
  {
   "cell_type": "code",
   "execution_count": null,
   "metadata": {},
   "outputs": [],
   "source": [
    "# print (\"\\n----- Records in a location------\\n\")\n",
    "# totald = session.query(RMIS.FacilityNamewithFacilityID, RMIS.BusinessLine,func.count(RMIS.FacilityNamewithFacilityID)).\\\n",
    "#      group_by(RMIS.FacilityNamewithFacilityID).\\\n",
    "#      order_by(RMIS.BusinessLine).\\\n",
    "#     all()\n",
    "# print (totald)"
   ]
  },
  {
   "cell_type": "code",
   "execution_count": null,
   "metadata": {},
   "outputs": [],
   "source": [
    "# Calibration compliance\n",
    "\n",
    "# print (\"\\n----- Calibration compliance------\\n\")\n",
    "# CalComp = session.query(RMIS.FacilityNamewithFacilityID, RMIS.BusinessLine, RMIS.CalibrationComplianceIndicator, func.count(RMIS.CalibrationComplianceIndicator)).\\\n",
    "#     group_by(RMIS.FacilityNamewithFacilityID).\\\n",
    "#     group_by(RMIS.BusinessLine).\\\n",
    "#     group_by(RMIS.CalibrationComplianceIndicator).\\\n",
    "#     all()\n",
    "# print (CalComp)"
   ]
  },
  {
   "cell_type": "code",
   "execution_count": null,
   "metadata": {},
   "outputs": [],
   "source": [
    "# CalComp\n"
   ]
  },
  {
   "cell_type": "code",
   "execution_count": null,
   "metadata": {},
   "outputs": [],
   "source": [
    "#Leak Test compliance\n",
    "\n",
    "# print (\"\\n----- Leak Testcompliance------\\n\")\n",
    "# LeakTestComp = session.query(RMIS.FacilityNamewithFacilityID, RMIS.BusinessLine, RMIS.LeakTestComplianceIndicator, func.count(RMIS.LeakTestComplianceIndicator)).\\\n",
    "#     group_by(RMIS.FacilityNamewithFacilityID).\\\n",
    "#     group_by(RMIS.BusinessLine).\\\n",
    "#     group_by(RMIS.LeakTestComplianceIndicator).\\\n",
    "#     all()\n",
    "# print (LeakTestComp)"
   ]
  },
  {
   "cell_type": "code",
   "execution_count": null,
   "metadata": {},
   "outputs": [],
   "source": [
    "# Photo compliance\n",
    "\n",
    "# print (\"\\n----- Photo compliance------\\n\")\n",
    "# PhotoComp = session.query(RMIS.FacilityNamewithFacilityID, RMIS.BusinessLine, RMIS.ConfirmationPhotoComplianceIndicator, func.count(RMIS.ConfirmationPhotoComplianceIndicator)).\\\n",
    "#     group_by(RMIS.FacilityNamewithFacilityID).\\\n",
    "#     group_by(RMIS.BusinessLine).\\\n",
    "#     group_by(RMIS.ConfirmationPhotoComplianceIndicator).\\\n",
    "#     all()\n",
    "# print (PhotoComp)"
   ]
  },
  {
   "cell_type": "code",
   "execution_count": null,
   "metadata": {},
   "outputs": [],
   "source": [
    "# Total dates\n",
    "\n",
    "# print (\"\\n----- Total dates------\\n\")\n",
    "# totald = session.query(func.count(RMIS.Geounit)).all()\n",
    "# print (totald)"
   ]
  },
  {
   "cell_type": "code",
   "execution_count": null,
   "metadata": {},
   "outputs": [],
   "source": [
    "# print (\"\\n----- Photo compliance------\\n\")\n",
    "# PhotoComp = session.query(RMIS.Geounit, RMIS.Country, RMIS.FacilityNamewithFacilityID, RMIS.BusinessLine, RMIS.ConfirmationPhotoComplianceIndicator, func.count(RMIS.ConfirmationPhotoComplianceIndicator)).\\\n",
    "#     group_by(RMIS.FacilityNamewithFacilityID).\\\n",
    "#     group_by(RMIS.BusinessLine).\\\n",
    "#     group_by(RMIS.ConfirmationPhotoComplianceIndicator).\\\n",
    "#     all()\n",
    "# print (PhotoComp)\n"
   ]
  },
  {
   "cell_type": "code",
   "execution_count": null,
   "metadata": {},
   "outputs": [],
   "source": [
    "# PhotoComp\n"
   ]
  },
  {
   "cell_type": "code",
   "execution_count": null,
   "metadata": {},
   "outputs": [],
   "source": [
    "# PhotoComp_df = pd.DataFrame(PhotoComp, columns=['FacilityNamewithFacilityID', 'BusinessLine', 'ConfirmationPhotoComplianceIndicator','Count'])"
   ]
  },
  {
   "cell_type": "code",
   "execution_count": null,
   "metadata": {},
   "outputs": [],
   "source": [
    "# PhotoComp_df"
   ]
  },
  {
   "cell_type": "code",
   "execution_count": null,
   "metadata": {},
   "outputs": [],
   "source": [
    "    # for row in PhotoComp:\n",
    "    #     PhotoComp_dict = {}\n",
    "    #     PhotoComp_dict[\"FacilityNamewithFacilityID\"]=row.FacilityNamewithFacilityID\n",
    "    #     PhotoComp_dict[\"BusinessLine\"]=row.BusinessLine\n",
    "    #     PhotoComp_dict[\"ConfirmationPhotoComplianceIndicator\"]=row.ConfirmationPhotoComplianceIndicator\n",
    "    #     PhotoComp_dict[\"Count\"]=row[3]\n",
    "\n",
    "    #     PhotoComp_data_out.append(PhotoComp_dict)"
   ]
  },
  {
   "cell_type": "code",
   "execution_count": null,
   "metadata": {},
   "outputs": [],
   "source": [
    "# PhotoComp_data_out"
   ]
  },
  {
   "cell_type": "code",
   "execution_count": null,
   "metadata": {},
   "outputs": [],
   "source": [
    "# Close Session\n",
    "session.close()"
   ]
  }
 ],
 "metadata": {
  "kernelspec": {
   "display_name": "PythonData",
   "language": "python",
   "name": "python3"
  },
  "language_info": {
   "codemirror_mode": {
    "name": "ipython",
    "version": 3
   },
   "file_extension": ".py",
   "mimetype": "text/x-python",
   "name": "python",
   "nbconvert_exporter": "python",
   "pygments_lexer": "ipython3",
   "version": "3.7.13"
  },
  "orig_nbformat": 4
 },
 "nbformat": 4,
 "nbformat_minor": 2
}
